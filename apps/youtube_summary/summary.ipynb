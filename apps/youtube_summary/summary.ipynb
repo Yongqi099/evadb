{
  "cells": [
    {
      "cell_type": "markdown",
      "id": "6fdba594",
      "metadata": {
        "id": "6fdba594"
      },
      "source": [
        "# Query PDF Tutorial"
      ]
    },
    {
      "cell_type": "markdown",
      "id": "05999c63",
      "metadata": {
        "id": "05999c63"
      },
      "source": [
        "In this tutorial, we demonstrate how to load a PDF and query it."
      ]
    },
    {
      "cell_type": "markdown",
      "id": "40100c9c",
      "metadata": {
        "id": "40100c9c"
      },
      "source": [
        "<table align=\"left\">\n",
        "  <td>\n",
        "    <a target=\"_blank\" href=\"https://colab.research.google.com/github/Yongqi099/evadb/blob/staging/apps/youtube_summary/summary.ipynb\"><img src=\"https://www.tensorflow.org/images/colab_logo_32px.png\" /> Run on Google Colab</a>\n",
        "  </td>\n",
        "  <td>\n",
        "    <a target=\"_blank\" href=\"https://github.com/georgia-tech-db/eva/blob/master/tutorials/12-query-pdf.ipynb\"><img src=\"https://www.tensorflow.org/images/GitHub-Mark-32px.png\" /> View source on GitHub</a>\n",
        "  </td>\n",
        "  <td>\n",
        "    <a target=\"_blank\" href=\"https://github.com/georgia-tech-db/eva/raw/master/tutorials/12-query-pdf.ipynb\"><img src=\"https://www.tensorflow.org/images/download_logo_32px.png\" /> Download notebook</a>\n",
        "  </td>\n",
        "</table><br><br>"
      ]
    },
    {
      "cell_type": "markdown",
      "id": "d53ef889",
      "metadata": {
        "id": "d53ef889"
      },
      "source": [
        "### Connect to EvaDB\n"
      ]
    },
    {
      "cell_type": "code",
      "execution_count": 2,
      "id": "cc1741d4",
      "metadata": {
        "id": "cc1741d4",
        "outputId": "03080669-d30d-4014-8257-0e6c25c0fc1f",
        "colab": {
          "base_uri": "https://localhost:8080/"
        }
      },
      "outputs": [
        {
          "output_type": "stream",
          "name": "stdout",
          "text": [
            "Requirement already satisfied: youtube_transcript_api in /usr/local/lib/python3.10/dist-packages (0.6.1)\n",
            "Requirement already satisfied: requests in /usr/local/lib/python3.10/dist-packages (from youtube_transcript_api) (2.31.0)\n",
            "Requirement already satisfied: charset-normalizer<4,>=2 in /usr/local/lib/python3.10/dist-packages (from requests->youtube_transcript_api) (3.3.0)\n",
            "Requirement already satisfied: idna<4,>=2.5 in /usr/local/lib/python3.10/dist-packages (from requests->youtube_transcript_api) (3.4)\n",
            "Requirement already satisfied: urllib3<3,>=1.21.1 in /usr/local/lib/python3.10/dist-packages (from requests->youtube_transcript_api) (2.0.6)\n",
            "Requirement already satisfied: certifi>=2017.4.17 in /usr/local/lib/python3.10/dist-packages (from requests->youtube_transcript_api) (2023.7.22)\n",
            "Requirement already satisfied: reportlab in /usr/local/lib/python3.10/dist-packages (4.0.6)\n",
            "Requirement already satisfied: pillow>=9.0.0 in /usr/local/lib/python3.10/dist-packages (from reportlab) (9.4.0)\n",
            "Requirement already satisfied: gpt4all in /usr/local/lib/python3.10/dist-packages (1.0.12)\n",
            "Requirement already satisfied: requests in /usr/local/lib/python3.10/dist-packages (from gpt4all) (2.31.0)\n",
            "Requirement already satisfied: tqdm in /usr/local/lib/python3.10/dist-packages (from gpt4all) (4.66.1)\n",
            "Requirement already satisfied: charset-normalizer<4,>=2 in /usr/local/lib/python3.10/dist-packages (from requests->gpt4all) (3.3.0)\n",
            "Requirement already satisfied: idna<4,>=2.5 in /usr/local/lib/python3.10/dist-packages (from requests->gpt4all) (3.4)\n",
            "Requirement already satisfied: urllib3<3,>=1.21.1 in /usr/local/lib/python3.10/dist-packages (from requests->gpt4all) (2.0.6)\n",
            "Requirement already satisfied: certifi>=2017.4.17 in /usr/local/lib/python3.10/dist-packages (from requests->gpt4all) (2023.7.22)\n"
          ]
        }
      ],
      "source": [
        "%pip install --quiet \"evadb[document,notebook]\"\n",
        "%pip install youtube_transcript_api\n",
        "%pip install reportlab\n",
        "%pip install gpt4all\n",
        "%pip install pytube>=15.0.0"
      ]
    },
    {
      "cell_type": "code",
      "source": [
        "import evadb\n",
        "cursor = evadb.connect().cursor()\n",
        "import warnings\n",
        "warnings.filterwarnings(\"ignore\")\n",
        "\n",
        "from google.colab import output\n",
        "output.enable_custom_widget_manager()\n",
        "\n",
        "from reportlab.platypus import SimpleDocTemplate, Paragraph\n",
        "from reportlab.lib.styles import getSampleStyleSheet\n",
        "\n",
        "from gpt4all import GPT4All\n",
        "\n",
        "import pytube\n",
        "from pytube import YouTube, extract  # noqa: E402\n",
        "from youtube_transcript_api import YouTubeTranscriptApi\n",
        "\n",
        "import os\n",
        "import shutil\n",
        "from typing import Dict, List\n",
        "\n",
        "import pandas as pd"
      ],
      "metadata": {
        "id": "MMR1HJNjcoXV"
      },
      "id": "MMR1HJNjcoXV",
      "execution_count": 3,
      "outputs": []
    },
    {
      "cell_type": "code",
      "source": [
        "import logging\n",
        "\n",
        "# Create a logger\n",
        "logger = logging.getLogger(__name__)\n",
        "\n",
        "# Set the level of this logger. This means that only logs of this level or higher will be logged.\n",
        "logger.setLevel(logging.INFO)\n",
        "\n",
        "# Create a file handler for outputting log messages to a file\n",
        "handler = logging.FileHandler('logfile.log', mode='w')\n",
        "\n",
        "# Create a formatter and add it to the handler\n",
        "formatter = logging.Formatter('%(asctime)s - %(name)s - %(levelname)s - %(message)s')\n",
        "handler.setFormatter(formatter)\n",
        "\n",
        "# Add the handler to the logger\n",
        "logger.addHandler(handler)"
      ],
      "metadata": {
        "id": "KbnQhHOIyQe7"
      },
      "id": "KbnQhHOIyQe7",
      "execution_count": 4,
      "outputs": []
    },
    {
      "cell_type": "code",
      "source": [
        "gpt = GPT4All(\"ggml-model-gpt4all-falcon-q4_0.bin\")"
      ],
      "metadata": {
        "id": "rEv5bYrLohAN",
        "outputId": "25c09d89-73ed-40ab-b02d-f97d64a0ec17",
        "colab": {
          "base_uri": "https://localhost:8080/"
        }
      },
      "id": "rEv5bYrLohAN",
      "execution_count": 5,
      "outputs": [
        {
          "output_type": "stream",
          "name": "stdout",
          "text": [
            "Found model file at  /root/.cache/gpt4all/ggml-model-gpt4all-falcon-q4_0.bin\n"
          ]
        }
      ]
    },
    {
      "cell_type": "code",
      "source": [
        "MAX_CHUNK_SIZE = 200\n",
        "DEFAULT_VIDEO_LINK = \"https://www.youtube.com/watch?v=0E_wXecn4DU&pp=ygUKZGFpbHkgZG9zZQ%3D%3D\"\n",
        "\n",
        "# temporary file paths\n",
        "# TRANSCRIPT_PATH = os.path.join(\"evadb_data\", \"tmp\", \"transcript.csv\")\n",
        "# SUMMARY_PATH = os.path.join(\"evadb_data\", \"tmp\", \"summary.csv\")\n",
        "\n",
        "TRANSCRIPT_PATH = \"/content/transcript.csv\"\n",
        "SUMMARY_PATH = \"summary.csv\"\n"
      ],
      "metadata": {
        "id": "ZLYqBKGKwY6y"
      },
      "id": "ZLYqBKGKwY6y",
      "execution_count": 20,
      "outputs": []
    },
    {
      "cell_type": "code",
      "source": [
        "def receive_user_input() -> Dict:\n",
        "    \"\"\"Receives user input.\n",
        "\n",
        "    Returns:\n",
        "        user_input (dict): global configurations\n",
        "    \"\"\"\n",
        "    print(\n",
        "        \"🔮 Welcome to EvaDB! This app lets you ask questions on any YouTube video.\\nYou will only need to supply a Youtube URL.\\n\"\n",
        "    )\n",
        "\n",
        "    user_input = {\"from_youtube\": \"y\"}\n",
        "\n",
        "    while True:\n",
        "        # get Youtube video url\n",
        "        video_link = str(input(\n",
        "                \"🌐 Enter the URL of the YouTube video (press Enter to use our default Youtube video URL): \"\n",
        "            ))\n",
        "\n",
        "        if video_link == \"\":\n",
        "            video_link = DEFAULT_VIDEO_LINK\n",
        "\n",
        "\n",
        "        # Check if the URL is a valid YouTube URL\n",
        "        if video_link.startswith(\"https://www.youtube.com/watch\"):\n",
        "            user_input[\"video_link\"] = video_link\n",
        "            break\n",
        "        else:\n",
        "            print(\"⚠️ Please enter a valid YouTube URL.\")\n",
        "\n",
        "\n",
        "    return user_input\n",
        "\n",
        "\n",
        "def partition_transcript(raw_transcript: str):\n",
        "    \"\"\"Group video transcript elements when they are too large.\n",
        "\n",
        "    Args:\n",
        "        transcript (str): downloaded video transcript as a raw string.\n",
        "\n",
        "    Returns:\n",
        "        List: a list of partitioned transcript\n",
        "    \"\"\"\n",
        "    if len(raw_transcript) <= MAX_CHUNK_SIZE:\n",
        "        return [{\"text\": raw_transcript}]\n",
        "\n",
        "    k = 2\n",
        "    while True:\n",
        "        if (len(raw_transcript) / k) <= MAX_CHUNK_SIZE:\n",
        "            break\n",
        "        else:\n",
        "            k += 1\n",
        "    chunk_size = int(len(raw_transcript) / k)\n",
        "\n",
        "    partitioned_transcript = [\n",
        "        {\"text\": raw_transcript[i : i + chunk_size]}\n",
        "        for i in range(0, len(raw_transcript), chunk_size)\n",
        "    ]\n",
        "    if len(partitioned_transcript[-1][\"text\"]) < 30:\n",
        "        partitioned_transcript.pop()\n",
        "    return partitioned_transcript\n",
        "\n",
        "\n",
        "def partition_summary(prev_summary: str):\n",
        "    \"\"\"Summarize a summary if a summary is too large.\n",
        "\n",
        "    Args:\n",
        "        prev_summary (str): previous summary that is too large.\n",
        "\n",
        "    Returns:\n",
        "        List: a list of partitioned summary\n",
        "    \"\"\"\n",
        "    k = 2\n",
        "    while True:\n",
        "        if (len(prev_summary) / k) <= MAX_CHUNK_SIZE:\n",
        "            break\n",
        "        else:\n",
        "            k += 1\n",
        "    chunk_size = int(len(prev_summary) / k)\n",
        "\n",
        "    new_summary = [\n",
        "        {\"summary\": prev_summary[i : i + chunk_size]}\n",
        "        for i in range(0, len(prev_summary), chunk_size)\n",
        "    ]\n",
        "    if len(new_summary[-1][\"summary\"]) < 30:\n",
        "        new_summary.pop()\n",
        "    return new_summary\n",
        "\n",
        "\n",
        "def group_transcript(transcript: dict):\n",
        "    \"\"\"Group video transcript elements when they are too short.\n",
        "\n",
        "    Args:\n",
        "        transcript (dict): downloaded video transcript as a dictionary.\n",
        "\n",
        "    Returns:\n",
        "        str: full transcript as a single string.\n",
        "    \"\"\"\n",
        "    new_line = \"\"\n",
        "    for line in transcript:\n",
        "        new_line += \" \" + line[\"text\"]\n",
        "\n",
        "    return new_line\n",
        "\n",
        "\n",
        "def download_youtube_video_transcript(video_link: str):\n",
        "    \"\"\"Downloads a YouTube video's transcript.\n",
        "\n",
        "    Args:\n",
        "        video_link (str): url of the target YouTube video.\n",
        "    \"\"\"\n",
        "    video_id = extract.video_id(video_link)\n",
        "    print(\"⏳ Transcript download in progress...\")\n",
        "    transcript = YouTubeTranscriptApi.get_transcript(video_id)\n",
        "    print(\"✅ Video transcript downloaded successfully.\")\n",
        "    return transcript"
      ],
      "metadata": {
        "id": "PxUobmjQwW5J"
      },
      "id": "PxUobmjQwW5J",
      "execution_count": 21,
      "outputs": []
    },
    {
      "cell_type": "code",
      "source": [
        "def generate_summary(cursor: evadb.EvaDBCursor):\n",
        "    \"\"\"Generate summary of a video transcript if it is too long (exceeds llm token limits)\n",
        "\n",
        "    Args:\n",
        "        cursor (EVADBCursor): evadb api cursor.\n",
        "    \"\"\"\n",
        "    transcript_list = cursor.table(\"Transcript\").select(\"text\").df()[\"transcript.text\"]\n",
        "    if len(transcript_list) == 1:\n",
        "        summary = transcript_list[0]\n",
        "        df = pd.DataFrame([{\"summary\": summary}])\n",
        "        df.to_csv(SUMMARY_PATH)\n",
        "\n",
        "        cursor.drop_table(\"Summary\", if_exists=True).execute()\n",
        "        cursor.query(\n",
        "            \"\"\"CREATE TABLE IF NOT EXISTS Summary (summary TEXT(100));\"\"\"\n",
        "        ).execute()\n",
        "        cursor.load(SUMMARY_PATH, \"Summary\", \"csv\").execute()\n",
        "        return\n",
        "\n",
        "    generate_summary_rel = cursor.table(\"Transcript\").select(\n",
        "        \"ChatGPT('summarize the video in detail', text)\"\n",
        "    )\n",
        "    responses = generate_summary_rel.df()[\"chatgpt.response\"]\n",
        "\n",
        "    summary = \"\"\n",
        "    for r in responses:\n",
        "        summary += f\"{r} \\n\"\n",
        "    df = pd.DataFrame([{\"summary\": summary}])\n",
        "    df.to_csv(SUMMARY_PATH)\n",
        "\n",
        "    need_to_summarize = len(summary) > MAX_CHUNK_SIZE\n",
        "    while need_to_summarize:\n",
        "        partitioned_summary = partition_summary(summary)\n",
        "\n",
        "        df = pd.DataFrame([{\"summary\": partitioned_summary}])\n",
        "        df.to_csv(SUMMARY_PATH)\n",
        "\n",
        "        cursor.drop_table(\"Summary\", if_exists=True).execute()\n",
        "        cursor.query(\n",
        "            \"\"\"CREATE TABLE IF NOT EXISTS Summary (summary TEXT(100));\"\"\"\n",
        "        ).execute()\n",
        "        cursor.load(SUMMARY_PATH, \"Summary\", \"csv\").execute()\n",
        "\n",
        "        generate_summary_rel = cursor.table(\"Summary\").select(\n",
        "            \"ChatGPT('summarize in detail', summary)\"\n",
        "        )\n",
        "        responses = generate_summary_rel.df()[\"chatgpt.response\"]\n",
        "        summary = \" \".join(responses)\n",
        "\n",
        "        # no further summarization is needed if the summary is short enough\n",
        "        if len(summary) <= MAX_CHUNK_SIZE:\n",
        "            need_to_summarize = False\n",
        "\n",
        "    # load final summary to table\n",
        "    cursor.drop_table(\"Summary\", if_exists=True).execute()\n",
        "    cursor.query(\n",
        "        \"\"\"CREATE TABLE IF NOT EXISTS Summary (summary TEXT(100));\"\"\"\n",
        "    ).execute()\n",
        "    cursor.load(SUMMARY_PATH, \"Summary\", \"csv\").execute()\n",
        "\n",
        "\n",
        "def generate_response(cursor: evadb.EvaDBCursor, question: str) -> str:\n",
        "    \"\"\"Generates question response with llm.\n",
        "\n",
        "    Args:\n",
        "        cursor (EVADBCursor): evadb api cursor.\n",
        "        question (str): question to ask to llm.\n",
        "\n",
        "    Returns\n",
        "        str: response from llm.\n",
        "    \"\"\"\n",
        "\n",
        "    if len(cursor.table(\"Transcript\").select(\"text\").df()[\"transcript.text\"]) == 1:\n",
        "        # Generate a response using the GPT4All model\n",
        "        response = gpt.generate(question)\n",
        "    else:\n",
        "        # generate summary of the video if its too long\n",
        "        if not os.path.exists(SUMMARY_PATH):\n",
        "            generate_summary(cursor)\n",
        "\n",
        "        # Generate a response using the GPT4All model and the summary\n",
        "        summary = cursor.table(\"Summary\").select(\"summary\").df()[\"summary.summary\"][0]\n",
        "        prompt = summary + \" \" + question\n",
        "        response = gpt.generate(prompt)\n",
        "\n",
        "    return response"
      ],
      "metadata": {
        "id": "kmD5iZmLw5Ov"
      },
      "id": "kmD5iZmLw5Ov",
      "execution_count": 22,
      "outputs": []
    },
    {
      "cell_type": "code",
      "source": [
        "def cleanup():\n",
        "    \"\"\"Removes any temporary file / directory created by EvaDB.\"\"\"\n",
        "    if os.path.exists(\"evadb_data\"):\n",
        "        shutil.rmtree(\"evadb_data\")\n",
        "\n",
        "\n",
        "if __name__ == \"__main__\":\n",
        "    # receive input from user\n",
        "    user_input = receive_user_input()\n",
        "\n",
        "    # load YouTube video transcript if it is available online\n",
        "    transcript = None\n",
        "\n",
        "    try:\n",
        "        # establish evadb api cursor\n",
        "        cursor = evadb.connect().cursor()\n",
        "\n",
        "        if user_input[\"from_youtube\"]:\n",
        "            transcript = download_youtube_video_transcript(user_input[\"video_link\"])\n",
        "\n",
        "        raw_transcript_string = None\n",
        "\n",
        "\n",
        "\n",
        "        logger.info('Info 1')\n",
        "\n",
        "        # Group the list of transcripts into a single raw transcript.\n",
        "        if transcript is not None:\n",
        "            raw_transcript_string = group_transcript(transcript)\n",
        "\n",
        "        logger.info('Info 2')\n",
        "\n",
        "        # Partition the transcripts if they are too big to circumvent LLM token restrictions.\n",
        "        if raw_transcript_string is not None:\n",
        "            partitioned_transcript = partition_transcript(raw_transcript_string)\n",
        "            df = pd.DataFrame(partitioned_transcript)\n",
        "            df.to_csv(TRANSCRIPT_PATH)\n",
        "\n",
        "        logger.info('Info 3')\n",
        "\n",
        "        # load chunked transcript into table\n",
        "        cursor.query(\"DROP TABLE IF EXISTS Transcript\").df()\n",
        "\n",
        "        logger.info('Info 4')\n",
        "\n",
        "        # Load data into the 'Transcript' table from a CSV file\n",
        "        # cursor.query(\"\"\"CREATE TABLE IF NOT EXISTS Transcript (text TEXT(50));\"\"\").execute()\n",
        "        cursor.query(\"LOAD CSV 'transcript.csv' INTO MyPDFs\").df()\n",
        "\n",
        "        logger.info('Info 5')\n",
        "        cursor.load(TRANSCRIPT_PATH, \"Transcript\", \"csv\").execute()\n",
        "\n",
        "\n",
        "        print(\"🪄 Ask anything about the video!\")\n",
        "        ready = True\n",
        "        while ready:\n",
        "            question = str(input(\"Question (enter 'exit' to exit): \"))\n",
        "            if question.lower() == \"exit\":\n",
        "                ready = False\n",
        "            else:\n",
        "                # Generate response with chatgpt udf\n",
        "                print(\"⏳ Generating response (may take a while)...\")\n",
        "                response = generate_response(cursor, question)\n",
        "                print(\"✅ Answer:\")\n",
        "                print(response)\n",
        "\n",
        "        cleanup()\n",
        "        print(\"✅ Session ended.\")\n",
        "    except Exception as e:\n",
        "        cleanup()\n",
        "        print(\"❗️ Session ended with an error.\")\n",
        "        print(e)"
      ],
      "metadata": {
        "id": "nGOc9sNzmrDM",
        "outputId": "05bbf486-ef55-4044-c419-a1fafe97aba9",
        "colab": {
          "base_uri": "https://localhost:8080/"
        }
      },
      "id": "nGOc9sNzmrDM",
      "execution_count": 35,
      "outputs": [
        {
          "output_type": "stream",
          "name": "stdout",
          "text": [
            "🔮 Welcome to EvaDB! This app lets you ask questions on any YouTube video.\n",
            "You will only need to supply a Youtube URL.\n",
            "\n",
            "🌐 Enter the URL of the YouTube video (press Enter to use our default Youtube video URL): \n",
            "⏳ Transcript download in progress...\n"
          ]
        },
        {
          "output_type": "stream",
          "name": "stderr",
          "text": [
            "INFO:__main__:Info 1\n",
            "INFO:__main__:Info 2\n",
            "INFO:__main__:Info 3\n",
            "INFO:__main__:Info 4\n",
            "10-11-2023 18:53:21 ERROR [load_csv_executor:load_csv_executor.py:exec:0048] MyPDFs does not exist.\n",
            "ERROR:evadb.utils.logging_manager:MyPDFs does not exist.\n",
            "10-11-2023 18:53:21 ERROR [plan_executor:plan_executor.py:execute_plan:0186] MyPDFs does not exist.\n",
            "Traceback (most recent call last):\n",
            "  File \"/usr/local/lib/python3.10/dist-packages/evadb/executor/plan_executor.py\", line 182, in execute_plan\n",
            "    yield from output\n",
            "  File \"/usr/local/lib/python3.10/dist-packages/evadb/executor/load_executor.py\", line 48, in exec\n",
            "    for batch in executor.exec():\n",
            "  File \"/usr/local/lib/python3.10/dist-packages/evadb/executor/load_csv_executor.py\", line 49, in exec\n",
            "    raise ExecutorError(error)\n",
            "evadb.executor.executor_utils.ExecutorError: MyPDFs does not exist.\n",
            "ERROR:evadb.utils.logging_manager:MyPDFs does not exist.\n",
            "Traceback (most recent call last):\n",
            "  File \"/usr/local/lib/python3.10/dist-packages/evadb/executor/plan_executor.py\", line 182, in execute_plan\n",
            "    yield from output\n",
            "  File \"/usr/local/lib/python3.10/dist-packages/evadb/executor/load_executor.py\", line 48, in exec\n",
            "    for batch in executor.exec():\n",
            "  File \"/usr/local/lib/python3.10/dist-packages/evadb/executor/load_csv_executor.py\", line 49, in exec\n",
            "    raise ExecutorError(error)\n",
            "evadb.executor.executor_utils.ExecutorError: MyPDFs does not exist.\n"
          ]
        },
        {
          "output_type": "stream",
          "name": "stdout",
          "text": [
            "✅ Video transcript downloaded successfully.\n",
            "❗️ Session ended with an error.\n",
            "MyPDFs does not exist.\n"
          ]
        }
      ]
    },
    {
      "cell_type": "markdown",
      "source": [
        "### Video Link"
      ],
      "metadata": {
        "id": "zLlEOuoyIKxQ"
      },
      "id": "zLlEOuoyIKxQ"
    },
    {
      "cell_type": "code",
      "source": [
        "# replace with your video URL\n",
        "video_url = 'https://www.youtube.com/watch?v=0E_wXecn4DU&pp=ygUKZGFpbHkgZG9zZQ%3D%3D'"
      ],
      "metadata": {
        "id": "T9LSSps6IH8V"
      },
      "id": "T9LSSps6IH8V",
      "execution_count": 24,
      "outputs": []
    },
    {
      "cell_type": "markdown",
      "source": [
        "### Get Youtube Transcript"
      ],
      "metadata": {
        "id": "g5Tjj-lXH8nV"
      },
      "id": "g5Tjj-lXH8nV"
    },
    {
      "cell_type": "code",
      "source": [
        "# Check if the video URL starts with 'https://www.youtube.com/watch'\n",
        "if not video_url.startswith('https://www.youtube.com/watch'):\n",
        "    raise ValueError(\"Invalid video URL. It should start with 'https://www.youtube.com/watch'\")\n",
        "\n",
        "# Extract the video ID from the URL\n",
        "video_id = video_url.split('=')[1]\n",
        "\n",
        "# Get the transcript of the video\n",
        "transcript = YouTubeTranscriptApi.get_transcript(video_id)"
      ],
      "metadata": {
        "id": "TzRoDTKEH_eq"
      },
      "id": "TzRoDTKEH_eq",
      "execution_count": 25,
      "outputs": []
    },
    {
      "cell_type": "code",
      "source": [
        "# Combine all the parts into a single string\n",
        "full_transcript = \" \".join([part['text'] for part in transcript])\n",
        "# Write the transcript to a text file\n",
        "with open('transcript.txt', 'w') as f:\n",
        "    f.write(full_transcript)\n",
        "\n",
        "# Write the transcript to a PDF file\n",
        "doc = SimpleDocTemplate(\"pdf_sample1.pdf\")\n",
        "styles = getSampleStyleSheet()\n",
        "story = [Paragraph(full_transcript, styles[\"BodyText\"])]\n",
        "doc.build(story)"
      ],
      "metadata": {
        "id": "3374_b4tKjtC"
      },
      "id": "3374_b4tKjtC",
      "execution_count": 26,
      "outputs": []
    },
    {
      "cell_type": "code",
      "source": [
        "# Prompt the model to summarize the transcript\n",
        "prompt = \"Summarize the following text: \" + full_transcript\n",
        "summary = gpt.generate(prompt)\n"
      ],
      "metadata": {
        "id": "WetpCodhcv3G"
      },
      "id": "WetpCodhcv3G",
      "execution_count": 27,
      "outputs": []
    },
    {
      "cell_type": "code",
      "source": [
        "print(len(full_transcript))\n",
        "print(len(summary))\n",
        "print(summary)"
      ],
      "metadata": {
        "colab": {
          "base_uri": "https://localhost:8080/"
        },
        "id": "ifWYaZurhWgS",
        "outputId": "ee641202-8439-4528-c9c2-3d7ed5aea33e"
      },
      "id": "ifWYaZurhWgS",
      "execution_count": 28,
      "outputs": [
        {
          "output_type": "stream",
          "name": "stdout",
          "text": [
            "995\n",
            "0\n",
            "\n"
          ]
        }
      ]
    },
    {
      "cell_type": "markdown",
      "source": [
        "### Hugging Face Summary"
      ],
      "metadata": {
        "id": "P8m_mrgxft5N"
      },
      "id": "P8m_mrgxft5N"
    },
    {
      "cell_type": "markdown",
      "id": "1d9c44d4",
      "metadata": {
        "id": "1d9c44d4"
      },
      "source": [
        "Load PDFs"
      ]
    },
    {
      "cell_type": "code",
      "source": [
        "!wget -nc \"https://www.dropbox.com/s/fv6pqdneth3l6fz/pdf_sample1.pdf\""
      ],
      "metadata": {
        "id": "ooLbVsmUGpQc",
        "outputId": "f707c925-feb7-4e43-b1b6-25b51cb855bb",
        "colab": {
          "base_uri": "https://localhost:8080/"
        }
      },
      "id": "ooLbVsmUGpQc",
      "execution_count": 36,
      "outputs": [
        {
          "output_type": "stream",
          "name": "stdout",
          "text": [
            "File ‘pdf_sample1.pdf’ already there; not retrieving.\n",
            "\n"
          ]
        }
      ]
    },
    {
      "cell_type": "code",
      "execution_count": 37,
      "id": "98061621",
      "metadata": {
        "id": "98061621",
        "outputId": "5327a658-2eb7-4cad-dc39-371b823e9ef7",
        "colab": {
          "base_uri": "https://localhost:8080/",
          "height": 1000
        }
      },
      "outputs": [
        {
          "output_type": "stream",
          "name": "stderr",
          "text": [
            "10-11-2023 18:57:28 ERROR [plan_executor:plan_executor.py:execute_plan:0186] (sqlite3.OperationalError) unable to open database file\n",
            "(Background on this error at: https://sqlalche.me/e/20/e3q8)\n",
            "Traceback (most recent call last):\n",
            "  File \"/usr/local/lib/python3.10/dist-packages/sqlalchemy/engine/base.py\", line 145, in __init__\n",
            "    self._dbapi_connection = engine.raw_connection()\n",
            "  File \"/usr/local/lib/python3.10/dist-packages/sqlalchemy/engine/base.py\", line 3288, in raw_connection\n",
            "    return self.pool.connect()\n",
            "  File \"/usr/local/lib/python3.10/dist-packages/sqlalchemy/pool/base.py\", line 452, in connect\n",
            "    return _ConnectionFairy._checkout(self)\n",
            "  File \"/usr/local/lib/python3.10/dist-packages/sqlalchemy/pool/base.py\", line 1267, in _checkout\n",
            "    fairy = _ConnectionRecord.checkout(pool)\n",
            "  File \"/usr/local/lib/python3.10/dist-packages/sqlalchemy/pool/base.py\", line 716, in checkout\n",
            "    rec = pool._do_get()\n",
            "  File \"/usr/local/lib/python3.10/dist-packages/sqlalchemy/pool/impl.py\", line 169, in _do_get\n",
            "    with util.safe_reraise():\n",
            "  File \"/usr/local/lib/python3.10/dist-packages/sqlalchemy/util/langhelpers.py\", line 146, in __exit__\n",
            "    raise exc_value.with_traceback(exc_tb)\n",
            "  File \"/usr/local/lib/python3.10/dist-packages/sqlalchemy/pool/impl.py\", line 167, in _do_get\n",
            "    return self._create_connection()\n",
            "  File \"/usr/local/lib/python3.10/dist-packages/sqlalchemy/pool/base.py\", line 393, in _create_connection\n",
            "    return _ConnectionRecord(self)\n",
            "  File \"/usr/local/lib/python3.10/dist-packages/sqlalchemy/pool/base.py\", line 678, in __init__\n",
            "    self.__connect()\n",
            "  File \"/usr/local/lib/python3.10/dist-packages/sqlalchemy/pool/base.py\", line 902, in __connect\n",
            "    with util.safe_reraise():\n",
            "  File \"/usr/local/lib/python3.10/dist-packages/sqlalchemy/util/langhelpers.py\", line 146, in __exit__\n",
            "    raise exc_value.with_traceback(exc_tb)\n",
            "  File \"/usr/local/lib/python3.10/dist-packages/sqlalchemy/pool/base.py\", line 898, in __connect\n",
            "    self.dbapi_connection = connection = pool._invoke_creator(self)\n",
            "  File \"/usr/local/lib/python3.10/dist-packages/sqlalchemy/engine/create.py\", line 637, in connect\n",
            "    return dialect.connect(*cargs, **cparams)\n",
            "  File \"/usr/local/lib/python3.10/dist-packages/sqlalchemy/engine/default.py\", line 615, in connect\n",
            "    return self.loaded_dbapi.connect(*cargs, **cparams)\n",
            "sqlite3.OperationalError: unable to open database file\n",
            "\n",
            "The above exception was the direct cause of the following exception:\n",
            "\n",
            "Traceback (most recent call last):\n",
            "  File \"/usr/local/lib/python3.10/dist-packages/evadb/executor/plan_executor.py\", line 182, in execute_plan\n",
            "    yield from output\n",
            "  File \"/usr/local/lib/python3.10/dist-packages/evadb/executor/drop_object_executor.py\", line 38, in exec\n",
            "    yield self._handle_drop_table(self.node.name, self.node.if_exists)\n",
            "  File \"/usr/local/lib/python3.10/dist-packages/evadb/executor/drop_object_executor.py\", line 50, in _handle_drop_table\n",
            "    if not self.catalog().check_table_exists(table_name):\n",
            "  File \"/usr/local/lib/python3.10/dist-packages/evadb/executor/abstract_executor.py\", line 44, in catalog\n",
            "    return self._db.catalog() if self._db else None\n",
            "  File \"/usr/local/lib/python3.10/dist-packages/evadb/database.py\", line 39, in catalog\n",
            "    return self.catalog_func(self.catalog_uri, self.config)\n",
            "  File \"/usr/local/lib/python3.10/dist-packages/evadb/catalog/catalog_utils.py\", line 314, in get_catalog_instance\n",
            "    return CatalogManager(db_uri, config)\n",
            "  File \"/usr/local/lib/python3.10/dist-packages/evadb/catalog/catalog_manager.py\", line 79, in __init__\n",
            "    self._bootstrap_catalog()\n",
            "  File \"/usr/local/lib/python3.10/dist-packages/evadb/catalog/catalog_manager.py\", line 123, in _bootstrap_catalog\n",
            "    init_db(self._sql_config.engine)\n",
            "  File \"/usr/local/lib/python3.10/dist-packages/evadb/catalog/models/utils.py\", line 59, in init_db\n",
            "    create_database(engine.url)\n",
            "  File \"/usr/local/lib/python3.10/dist-packages/sqlalchemy_utils/functions/database.py\", line 586, in create_database\n",
            "    with engine.begin() as conn:\n",
            "  File \"/usr/lib/python3.10/contextlib.py\", line 135, in __enter__\n",
            "    return next(self.gen)\n",
            "  File \"/usr/local/lib/python3.10/dist-packages/sqlalchemy/engine/base.py\", line 3228, in begin\n",
            "    with self.connect() as conn:\n",
            "  File \"/usr/local/lib/python3.10/dist-packages/sqlalchemy/engine/base.py\", line 3264, in connect\n",
            "    return self._connection_cls(self)\n",
            "  File \"/usr/local/lib/python3.10/dist-packages/sqlalchemy/engine/base.py\", line 147, in __init__\n",
            "    Connection._handle_dbapi_exception_noconnection(\n",
            "  File \"/usr/local/lib/python3.10/dist-packages/sqlalchemy/engine/base.py\", line 2426, in _handle_dbapi_exception_noconnection\n",
            "    raise sqlalchemy_exception.with_traceback(exc_info[2]) from e\n",
            "  File \"/usr/local/lib/python3.10/dist-packages/sqlalchemy/engine/base.py\", line 145, in __init__\n",
            "    self._dbapi_connection = engine.raw_connection()\n",
            "  File \"/usr/local/lib/python3.10/dist-packages/sqlalchemy/engine/base.py\", line 3288, in raw_connection\n",
            "    return self.pool.connect()\n",
            "  File \"/usr/local/lib/python3.10/dist-packages/sqlalchemy/pool/base.py\", line 452, in connect\n",
            "    return _ConnectionFairy._checkout(self)\n",
            "  File \"/usr/local/lib/python3.10/dist-packages/sqlalchemy/pool/base.py\", line 1267, in _checkout\n",
            "    fairy = _ConnectionRecord.checkout(pool)\n",
            "  File \"/usr/local/lib/python3.10/dist-packages/sqlalchemy/pool/base.py\", line 716, in checkout\n",
            "    rec = pool._do_get()\n",
            "  File \"/usr/local/lib/python3.10/dist-packages/sqlalchemy/pool/impl.py\", line 169, in _do_get\n",
            "    with util.safe_reraise():\n",
            "  File \"/usr/local/lib/python3.10/dist-packages/sqlalchemy/util/langhelpers.py\", line 146, in __exit__\n",
            "    raise exc_value.with_traceback(exc_tb)\n",
            "  File \"/usr/local/lib/python3.10/dist-packages/sqlalchemy/pool/impl.py\", line 167, in _do_get\n",
            "    return self._create_connection()\n",
            "  File \"/usr/local/lib/python3.10/dist-packages/sqlalchemy/pool/base.py\", line 393, in _create_connection\n",
            "    return _ConnectionRecord(self)\n",
            "  File \"/usr/local/lib/python3.10/dist-packages/sqlalchemy/pool/base.py\", line 678, in __init__\n",
            "    self.__connect()\n",
            "  File \"/usr/local/lib/python3.10/dist-packages/sqlalchemy/pool/base.py\", line 902, in __connect\n",
            "    with util.safe_reraise():\n",
            "  File \"/usr/local/lib/python3.10/dist-packages/sqlalchemy/util/langhelpers.py\", line 146, in __exit__\n",
            "    raise exc_value.with_traceback(exc_tb)\n",
            "  File \"/usr/local/lib/python3.10/dist-packages/sqlalchemy/pool/base.py\", line 898, in __connect\n",
            "    self.dbapi_connection = connection = pool._invoke_creator(self)\n",
            "  File \"/usr/local/lib/python3.10/dist-packages/sqlalchemy/engine/create.py\", line 637, in connect\n",
            "    return dialect.connect(*cargs, **cparams)\n",
            "  File \"/usr/local/lib/python3.10/dist-packages/sqlalchemy/engine/default.py\", line 615, in connect\n",
            "    return self.loaded_dbapi.connect(*cargs, **cparams)\n",
            "sqlalchemy.exc.OperationalError: (sqlite3.OperationalError) unable to open database file\n",
            "(Background on this error at: https://sqlalche.me/e/20/e3q8)\n",
            "ERROR:evadb.utils.logging_manager:(sqlite3.OperationalError) unable to open database file\n",
            "(Background on this error at: https://sqlalche.me/e/20/e3q8)\n",
            "Traceback (most recent call last):\n",
            "  File \"/usr/local/lib/python3.10/dist-packages/sqlalchemy/engine/base.py\", line 145, in __init__\n",
            "    self._dbapi_connection = engine.raw_connection()\n",
            "  File \"/usr/local/lib/python3.10/dist-packages/sqlalchemy/engine/base.py\", line 3288, in raw_connection\n",
            "    return self.pool.connect()\n",
            "  File \"/usr/local/lib/python3.10/dist-packages/sqlalchemy/pool/base.py\", line 452, in connect\n",
            "    return _ConnectionFairy._checkout(self)\n",
            "  File \"/usr/local/lib/python3.10/dist-packages/sqlalchemy/pool/base.py\", line 1267, in _checkout\n",
            "    fairy = _ConnectionRecord.checkout(pool)\n",
            "  File \"/usr/local/lib/python3.10/dist-packages/sqlalchemy/pool/base.py\", line 716, in checkout\n",
            "    rec = pool._do_get()\n",
            "  File \"/usr/local/lib/python3.10/dist-packages/sqlalchemy/pool/impl.py\", line 169, in _do_get\n",
            "    with util.safe_reraise():\n",
            "  File \"/usr/local/lib/python3.10/dist-packages/sqlalchemy/util/langhelpers.py\", line 146, in __exit__\n",
            "    raise exc_value.with_traceback(exc_tb)\n",
            "  File \"/usr/local/lib/python3.10/dist-packages/sqlalchemy/pool/impl.py\", line 167, in _do_get\n",
            "    return self._create_connection()\n",
            "  File \"/usr/local/lib/python3.10/dist-packages/sqlalchemy/pool/base.py\", line 393, in _create_connection\n",
            "    return _ConnectionRecord(self)\n",
            "  File \"/usr/local/lib/python3.10/dist-packages/sqlalchemy/pool/base.py\", line 678, in __init__\n",
            "    self.__connect()\n",
            "  File \"/usr/local/lib/python3.10/dist-packages/sqlalchemy/pool/base.py\", line 902, in __connect\n",
            "    with util.safe_reraise():\n",
            "  File \"/usr/local/lib/python3.10/dist-packages/sqlalchemy/util/langhelpers.py\", line 146, in __exit__\n",
            "    raise exc_value.with_traceback(exc_tb)\n",
            "  File \"/usr/local/lib/python3.10/dist-packages/sqlalchemy/pool/base.py\", line 898, in __connect\n",
            "    self.dbapi_connection = connection = pool._invoke_creator(self)\n",
            "  File \"/usr/local/lib/python3.10/dist-packages/sqlalchemy/engine/create.py\", line 637, in connect\n",
            "    return dialect.connect(*cargs, **cparams)\n",
            "  File \"/usr/local/lib/python3.10/dist-packages/sqlalchemy/engine/default.py\", line 615, in connect\n",
            "    return self.loaded_dbapi.connect(*cargs, **cparams)\n",
            "sqlite3.OperationalError: unable to open database file\n",
            "\n",
            "The above exception was the direct cause of the following exception:\n",
            "\n",
            "Traceback (most recent call last):\n",
            "  File \"/usr/local/lib/python3.10/dist-packages/evadb/executor/plan_executor.py\", line 182, in execute_plan\n",
            "    yield from output\n",
            "  File \"/usr/local/lib/python3.10/dist-packages/evadb/executor/drop_object_executor.py\", line 38, in exec\n",
            "    yield self._handle_drop_table(self.node.name, self.node.if_exists)\n",
            "  File \"/usr/local/lib/python3.10/dist-packages/evadb/executor/drop_object_executor.py\", line 50, in _handle_drop_table\n",
            "    if not self.catalog().check_table_exists(table_name):\n",
            "  File \"/usr/local/lib/python3.10/dist-packages/evadb/executor/abstract_executor.py\", line 44, in catalog\n",
            "    return self._db.catalog() if self._db else None\n",
            "  File \"/usr/local/lib/python3.10/dist-packages/evadb/database.py\", line 39, in catalog\n",
            "    return self.catalog_func(self.catalog_uri, self.config)\n",
            "  File \"/usr/local/lib/python3.10/dist-packages/evadb/catalog/catalog_utils.py\", line 314, in get_catalog_instance\n",
            "    return CatalogManager(db_uri, config)\n",
            "  File \"/usr/local/lib/python3.10/dist-packages/evadb/catalog/catalog_manager.py\", line 79, in __init__\n",
            "    self._bootstrap_catalog()\n",
            "  File \"/usr/local/lib/python3.10/dist-packages/evadb/catalog/catalog_manager.py\", line 123, in _bootstrap_catalog\n",
            "    init_db(self._sql_config.engine)\n",
            "  File \"/usr/local/lib/python3.10/dist-packages/evadb/catalog/models/utils.py\", line 59, in init_db\n",
            "    create_database(engine.url)\n",
            "  File \"/usr/local/lib/python3.10/dist-packages/sqlalchemy_utils/functions/database.py\", line 586, in create_database\n",
            "    with engine.begin() as conn:\n",
            "  File \"/usr/lib/python3.10/contextlib.py\", line 135, in __enter__\n",
            "    return next(self.gen)\n",
            "  File \"/usr/local/lib/python3.10/dist-packages/sqlalchemy/engine/base.py\", line 3228, in begin\n",
            "    with self.connect() as conn:\n",
            "  File \"/usr/local/lib/python3.10/dist-packages/sqlalchemy/engine/base.py\", line 3264, in connect\n",
            "    return self._connection_cls(self)\n",
            "  File \"/usr/local/lib/python3.10/dist-packages/sqlalchemy/engine/base.py\", line 147, in __init__\n",
            "    Connection._handle_dbapi_exception_noconnection(\n",
            "  File \"/usr/local/lib/python3.10/dist-packages/sqlalchemy/engine/base.py\", line 2426, in _handle_dbapi_exception_noconnection\n",
            "    raise sqlalchemy_exception.with_traceback(exc_info[2]) from e\n",
            "  File \"/usr/local/lib/python3.10/dist-packages/sqlalchemy/engine/base.py\", line 145, in __init__\n",
            "    self._dbapi_connection = engine.raw_connection()\n",
            "  File \"/usr/local/lib/python3.10/dist-packages/sqlalchemy/engine/base.py\", line 3288, in raw_connection\n",
            "    return self.pool.connect()\n",
            "  File \"/usr/local/lib/python3.10/dist-packages/sqlalchemy/pool/base.py\", line 452, in connect\n",
            "    return _ConnectionFairy._checkout(self)\n",
            "  File \"/usr/local/lib/python3.10/dist-packages/sqlalchemy/pool/base.py\", line 1267, in _checkout\n",
            "    fairy = _ConnectionRecord.checkout(pool)\n",
            "  File \"/usr/local/lib/python3.10/dist-packages/sqlalchemy/pool/base.py\", line 716, in checkout\n",
            "    rec = pool._do_get()\n",
            "  File \"/usr/local/lib/python3.10/dist-packages/sqlalchemy/pool/impl.py\", line 169, in _do_get\n",
            "    with util.safe_reraise():\n",
            "  File \"/usr/local/lib/python3.10/dist-packages/sqlalchemy/util/langhelpers.py\", line 146, in __exit__\n",
            "    raise exc_value.with_traceback(exc_tb)\n",
            "  File \"/usr/local/lib/python3.10/dist-packages/sqlalchemy/pool/impl.py\", line 167, in _do_get\n",
            "    return self._create_connection()\n",
            "  File \"/usr/local/lib/python3.10/dist-packages/sqlalchemy/pool/base.py\", line 393, in _create_connection\n",
            "    return _ConnectionRecord(self)\n",
            "  File \"/usr/local/lib/python3.10/dist-packages/sqlalchemy/pool/base.py\", line 678, in __init__\n",
            "    self.__connect()\n",
            "  File \"/usr/local/lib/python3.10/dist-packages/sqlalchemy/pool/base.py\", line 902, in __connect\n",
            "    with util.safe_reraise():\n",
            "  File \"/usr/local/lib/python3.10/dist-packages/sqlalchemy/util/langhelpers.py\", line 146, in __exit__\n",
            "    raise exc_value.with_traceback(exc_tb)\n",
            "  File \"/usr/local/lib/python3.10/dist-packages/sqlalchemy/pool/base.py\", line 898, in __connect\n",
            "    self.dbapi_connection = connection = pool._invoke_creator(self)\n",
            "  File \"/usr/local/lib/python3.10/dist-packages/sqlalchemy/engine/create.py\", line 637, in connect\n",
            "    return dialect.connect(*cargs, **cparams)\n",
            "  File \"/usr/local/lib/python3.10/dist-packages/sqlalchemy/engine/default.py\", line 615, in connect\n",
            "    return self.loaded_dbapi.connect(*cargs, **cparams)\n",
            "sqlalchemy.exc.OperationalError: (sqlite3.OperationalError) unable to open database file\n",
            "(Background on this error at: https://sqlalche.me/e/20/e3q8)\n"
          ]
        },
        {
          "output_type": "error",
          "ename": "ExecutorError",
          "evalue": "ignored",
          "traceback": [
            "\u001b[0;31m---------------------------------------------------------------------------\u001b[0m",
            "\u001b[0;31mOperationalError\u001b[0m                          Traceback (most recent call last)",
            "\u001b[0;32m/usr/local/lib/python3.10/dist-packages/sqlalchemy/engine/base.py\u001b[0m in \u001b[0;36m__init__\u001b[0;34m(self, engine, connection, _has_events, _allow_revalidate, _allow_autobegin)\u001b[0m\n\u001b[1;32m    144\u001b[0m             \u001b[0;32mtry\u001b[0m\u001b[0;34m:\u001b[0m\u001b[0;34m\u001b[0m\u001b[0;34m\u001b[0m\u001b[0m\n\u001b[0;32m--> 145\u001b[0;31m                 \u001b[0mself\u001b[0m\u001b[0;34m.\u001b[0m\u001b[0m_dbapi_connection\u001b[0m \u001b[0;34m=\u001b[0m \u001b[0mengine\u001b[0m\u001b[0;34m.\u001b[0m\u001b[0mraw_connection\u001b[0m\u001b[0;34m(\u001b[0m\u001b[0;34m)\u001b[0m\u001b[0;34m\u001b[0m\u001b[0;34m\u001b[0m\u001b[0m\n\u001b[0m\u001b[1;32m    146\u001b[0m             \u001b[0;32mexcept\u001b[0m \u001b[0mdialect\u001b[0m\u001b[0;34m.\u001b[0m\u001b[0mloaded_dbapi\u001b[0m\u001b[0;34m.\u001b[0m\u001b[0mError\u001b[0m \u001b[0;32mas\u001b[0m \u001b[0merr\u001b[0m\u001b[0;34m:\u001b[0m\u001b[0;34m\u001b[0m\u001b[0;34m\u001b[0m\u001b[0m\n",
            "\u001b[0;32m/usr/local/lib/python3.10/dist-packages/sqlalchemy/engine/base.py\u001b[0m in \u001b[0;36mraw_connection\u001b[0;34m(self)\u001b[0m\n\u001b[1;32m   3287\u001b[0m         \"\"\"\n\u001b[0;32m-> 3288\u001b[0;31m         \u001b[0;32mreturn\u001b[0m \u001b[0mself\u001b[0m\u001b[0;34m.\u001b[0m\u001b[0mpool\u001b[0m\u001b[0;34m.\u001b[0m\u001b[0mconnect\u001b[0m\u001b[0;34m(\u001b[0m\u001b[0;34m)\u001b[0m\u001b[0;34m\u001b[0m\u001b[0;34m\u001b[0m\u001b[0m\n\u001b[0m\u001b[1;32m   3289\u001b[0m \u001b[0;34m\u001b[0m\u001b[0m\n",
            "\u001b[0;32m/usr/local/lib/python3.10/dist-packages/sqlalchemy/pool/base.py\u001b[0m in \u001b[0;36mconnect\u001b[0;34m(self)\u001b[0m\n\u001b[1;32m    451\u001b[0m         \"\"\"\n\u001b[0;32m--> 452\u001b[0;31m         \u001b[0;32mreturn\u001b[0m \u001b[0m_ConnectionFairy\u001b[0m\u001b[0;34m.\u001b[0m\u001b[0m_checkout\u001b[0m\u001b[0;34m(\u001b[0m\u001b[0mself\u001b[0m\u001b[0;34m)\u001b[0m\u001b[0;34m\u001b[0m\u001b[0;34m\u001b[0m\u001b[0m\n\u001b[0m\u001b[1;32m    453\u001b[0m \u001b[0;34m\u001b[0m\u001b[0m\n",
            "\u001b[0;32m/usr/local/lib/python3.10/dist-packages/sqlalchemy/pool/base.py\u001b[0m in \u001b[0;36m_checkout\u001b[0;34m(cls, pool, threadconns, fairy)\u001b[0m\n\u001b[1;32m   1266\u001b[0m         \u001b[0;32mif\u001b[0m \u001b[0;32mnot\u001b[0m \u001b[0mfairy\u001b[0m\u001b[0;34m:\u001b[0m\u001b[0;34m\u001b[0m\u001b[0;34m\u001b[0m\u001b[0m\n\u001b[0;32m-> 1267\u001b[0;31m             \u001b[0mfairy\u001b[0m \u001b[0;34m=\u001b[0m \u001b[0m_ConnectionRecord\u001b[0m\u001b[0;34m.\u001b[0m\u001b[0mcheckout\u001b[0m\u001b[0;34m(\u001b[0m\u001b[0mpool\u001b[0m\u001b[0;34m)\u001b[0m\u001b[0;34m\u001b[0m\u001b[0;34m\u001b[0m\u001b[0m\n\u001b[0m\u001b[1;32m   1268\u001b[0m \u001b[0;34m\u001b[0m\u001b[0m\n",
            "\u001b[0;32m/usr/local/lib/python3.10/dist-packages/sqlalchemy/pool/base.py\u001b[0m in \u001b[0;36mcheckout\u001b[0;34m(cls, pool)\u001b[0m\n\u001b[1;32m    715\u001b[0m         \u001b[0;32melse\u001b[0m\u001b[0;34m:\u001b[0m\u001b[0;34m\u001b[0m\u001b[0;34m\u001b[0m\u001b[0m\n\u001b[0;32m--> 716\u001b[0;31m             \u001b[0mrec\u001b[0m \u001b[0;34m=\u001b[0m \u001b[0mpool\u001b[0m\u001b[0;34m.\u001b[0m\u001b[0m_do_get\u001b[0m\u001b[0;34m(\u001b[0m\u001b[0;34m)\u001b[0m\u001b[0;34m\u001b[0m\u001b[0;34m\u001b[0m\u001b[0m\n\u001b[0m\u001b[1;32m    717\u001b[0m \u001b[0;34m\u001b[0m\u001b[0m\n",
            "\u001b[0;32m/usr/local/lib/python3.10/dist-packages/sqlalchemy/pool/impl.py\u001b[0m in \u001b[0;36m_do_get\u001b[0;34m(self)\u001b[0m\n\u001b[1;32m    168\u001b[0m             \u001b[0;32mexcept\u001b[0m\u001b[0;34m:\u001b[0m\u001b[0;34m\u001b[0m\u001b[0;34m\u001b[0m\u001b[0m\n\u001b[0;32m--> 169\u001b[0;31m                 \u001b[0;32mwith\u001b[0m \u001b[0mutil\u001b[0m\u001b[0;34m.\u001b[0m\u001b[0msafe_reraise\u001b[0m\u001b[0;34m(\u001b[0m\u001b[0;34m)\u001b[0m\u001b[0;34m:\u001b[0m\u001b[0;34m\u001b[0m\u001b[0;34m\u001b[0m\u001b[0m\n\u001b[0m\u001b[1;32m    170\u001b[0m                     \u001b[0mself\u001b[0m\u001b[0;34m.\u001b[0m\u001b[0m_dec_overflow\u001b[0m\u001b[0;34m(\u001b[0m\u001b[0;34m)\u001b[0m\u001b[0;34m\u001b[0m\u001b[0;34m\u001b[0m\u001b[0m\n",
            "\u001b[0;32m/usr/local/lib/python3.10/dist-packages/sqlalchemy/util/langhelpers.py\u001b[0m in \u001b[0;36m__exit__\u001b[0;34m(self, type_, value, traceback)\u001b[0m\n\u001b[1;32m    145\u001b[0m             \u001b[0mself\u001b[0m\u001b[0;34m.\u001b[0m\u001b[0m_exc_info\u001b[0m \u001b[0;34m=\u001b[0m \u001b[0;32mNone\u001b[0m  \u001b[0;31m# remove potential circular references\u001b[0m\u001b[0;34m\u001b[0m\u001b[0;34m\u001b[0m\u001b[0m\n\u001b[0;32m--> 146\u001b[0;31m             \u001b[0;32mraise\u001b[0m \u001b[0mexc_value\u001b[0m\u001b[0;34m.\u001b[0m\u001b[0mwith_traceback\u001b[0m\u001b[0;34m(\u001b[0m\u001b[0mexc_tb\u001b[0m\u001b[0;34m)\u001b[0m\u001b[0;34m\u001b[0m\u001b[0;34m\u001b[0m\u001b[0m\n\u001b[0m\u001b[1;32m    147\u001b[0m         \u001b[0;32melse\u001b[0m\u001b[0;34m:\u001b[0m\u001b[0;34m\u001b[0m\u001b[0;34m\u001b[0m\u001b[0m\n",
            "\u001b[0;32m/usr/local/lib/python3.10/dist-packages/sqlalchemy/pool/impl.py\u001b[0m in \u001b[0;36m_do_get\u001b[0;34m(self)\u001b[0m\n\u001b[1;32m    166\u001b[0m             \u001b[0;32mtry\u001b[0m\u001b[0;34m:\u001b[0m\u001b[0;34m\u001b[0m\u001b[0;34m\u001b[0m\u001b[0m\n\u001b[0;32m--> 167\u001b[0;31m                 \u001b[0;32mreturn\u001b[0m \u001b[0mself\u001b[0m\u001b[0;34m.\u001b[0m\u001b[0m_create_connection\u001b[0m\u001b[0;34m(\u001b[0m\u001b[0;34m)\u001b[0m\u001b[0;34m\u001b[0m\u001b[0;34m\u001b[0m\u001b[0m\n\u001b[0m\u001b[1;32m    168\u001b[0m             \u001b[0;32mexcept\u001b[0m\u001b[0;34m:\u001b[0m\u001b[0;34m\u001b[0m\u001b[0;34m\u001b[0m\u001b[0m\n",
            "\u001b[0;32m/usr/local/lib/python3.10/dist-packages/sqlalchemy/pool/base.py\u001b[0m in \u001b[0;36m_create_connection\u001b[0;34m(self)\u001b[0m\n\u001b[1;32m    392\u001b[0m \u001b[0;34m\u001b[0m\u001b[0m\n\u001b[0;32m--> 393\u001b[0;31m         \u001b[0;32mreturn\u001b[0m \u001b[0m_ConnectionRecord\u001b[0m\u001b[0;34m(\u001b[0m\u001b[0mself\u001b[0m\u001b[0;34m)\u001b[0m\u001b[0;34m\u001b[0m\u001b[0;34m\u001b[0m\u001b[0m\n\u001b[0m\u001b[1;32m    394\u001b[0m \u001b[0;34m\u001b[0m\u001b[0m\n",
            "\u001b[0;32m/usr/local/lib/python3.10/dist-packages/sqlalchemy/pool/base.py\u001b[0m in \u001b[0;36m__init__\u001b[0;34m(self, pool, connect)\u001b[0m\n\u001b[1;32m    677\u001b[0m         \u001b[0;32mif\u001b[0m \u001b[0mconnect\u001b[0m\u001b[0;34m:\u001b[0m\u001b[0;34m\u001b[0m\u001b[0;34m\u001b[0m\u001b[0m\n\u001b[0;32m--> 678\u001b[0;31m             \u001b[0mself\u001b[0m\u001b[0;34m.\u001b[0m\u001b[0m__connect\u001b[0m\u001b[0;34m(\u001b[0m\u001b[0;34m)\u001b[0m\u001b[0;34m\u001b[0m\u001b[0;34m\u001b[0m\u001b[0m\n\u001b[0m\u001b[1;32m    679\u001b[0m         \u001b[0mself\u001b[0m\u001b[0;34m.\u001b[0m\u001b[0mfinalize_callback\u001b[0m \u001b[0;34m=\u001b[0m \u001b[0mdeque\u001b[0m\u001b[0;34m(\u001b[0m\u001b[0;34m)\u001b[0m\u001b[0;34m\u001b[0m\u001b[0;34m\u001b[0m\u001b[0m\n",
            "\u001b[0;32m/usr/local/lib/python3.10/dist-packages/sqlalchemy/pool/base.py\u001b[0m in \u001b[0;36m__connect\u001b[0;34m(self)\u001b[0m\n\u001b[1;32m    901\u001b[0m         \u001b[0;32mexcept\u001b[0m \u001b[0mBaseException\u001b[0m \u001b[0;32mas\u001b[0m \u001b[0me\u001b[0m\u001b[0;34m:\u001b[0m\u001b[0;34m\u001b[0m\u001b[0;34m\u001b[0m\u001b[0m\n\u001b[0;32m--> 902\u001b[0;31m             \u001b[0;32mwith\u001b[0m \u001b[0mutil\u001b[0m\u001b[0;34m.\u001b[0m\u001b[0msafe_reraise\u001b[0m\u001b[0;34m(\u001b[0m\u001b[0;34m)\u001b[0m\u001b[0;34m:\u001b[0m\u001b[0;34m\u001b[0m\u001b[0;34m\u001b[0m\u001b[0m\n\u001b[0m\u001b[1;32m    903\u001b[0m                 \u001b[0mpool\u001b[0m\u001b[0;34m.\u001b[0m\u001b[0mlogger\u001b[0m\u001b[0;34m.\u001b[0m\u001b[0mdebug\u001b[0m\u001b[0;34m(\u001b[0m\u001b[0;34m\"Error on connect(): %s\"\u001b[0m\u001b[0;34m,\u001b[0m \u001b[0me\u001b[0m\u001b[0;34m)\u001b[0m\u001b[0;34m\u001b[0m\u001b[0;34m\u001b[0m\u001b[0m\n",
            "\u001b[0;32m/usr/local/lib/python3.10/dist-packages/sqlalchemy/util/langhelpers.py\u001b[0m in \u001b[0;36m__exit__\u001b[0;34m(self, type_, value, traceback)\u001b[0m\n\u001b[1;32m    145\u001b[0m             \u001b[0mself\u001b[0m\u001b[0;34m.\u001b[0m\u001b[0m_exc_info\u001b[0m \u001b[0;34m=\u001b[0m \u001b[0;32mNone\u001b[0m  \u001b[0;31m# remove potential circular references\u001b[0m\u001b[0;34m\u001b[0m\u001b[0;34m\u001b[0m\u001b[0m\n\u001b[0;32m--> 146\u001b[0;31m             \u001b[0;32mraise\u001b[0m \u001b[0mexc_value\u001b[0m\u001b[0;34m.\u001b[0m\u001b[0mwith_traceback\u001b[0m\u001b[0;34m(\u001b[0m\u001b[0mexc_tb\u001b[0m\u001b[0;34m)\u001b[0m\u001b[0;34m\u001b[0m\u001b[0;34m\u001b[0m\u001b[0m\n\u001b[0m\u001b[1;32m    147\u001b[0m         \u001b[0;32melse\u001b[0m\u001b[0;34m:\u001b[0m\u001b[0;34m\u001b[0m\u001b[0;34m\u001b[0m\u001b[0m\n",
            "\u001b[0;32m/usr/local/lib/python3.10/dist-packages/sqlalchemy/pool/base.py\u001b[0m in \u001b[0;36m__connect\u001b[0;34m(self)\u001b[0m\n\u001b[1;32m    897\u001b[0m             \u001b[0mself\u001b[0m\u001b[0;34m.\u001b[0m\u001b[0mstarttime\u001b[0m \u001b[0;34m=\u001b[0m \u001b[0mtime\u001b[0m\u001b[0;34m.\u001b[0m\u001b[0mtime\u001b[0m\u001b[0;34m(\u001b[0m\u001b[0;34m)\u001b[0m\u001b[0;34m\u001b[0m\u001b[0;34m\u001b[0m\u001b[0m\n\u001b[0;32m--> 898\u001b[0;31m             \u001b[0mself\u001b[0m\u001b[0;34m.\u001b[0m\u001b[0mdbapi_connection\u001b[0m \u001b[0;34m=\u001b[0m \u001b[0mconnection\u001b[0m \u001b[0;34m=\u001b[0m \u001b[0mpool\u001b[0m\u001b[0;34m.\u001b[0m\u001b[0m_invoke_creator\u001b[0m\u001b[0;34m(\u001b[0m\u001b[0mself\u001b[0m\u001b[0;34m)\u001b[0m\u001b[0;34m\u001b[0m\u001b[0;34m\u001b[0m\u001b[0m\n\u001b[0m\u001b[1;32m    899\u001b[0m             \u001b[0mpool\u001b[0m\u001b[0;34m.\u001b[0m\u001b[0mlogger\u001b[0m\u001b[0;34m.\u001b[0m\u001b[0mdebug\u001b[0m\u001b[0;34m(\u001b[0m\u001b[0;34m\"Created new connection %r\"\u001b[0m\u001b[0;34m,\u001b[0m \u001b[0mconnection\u001b[0m\u001b[0;34m)\u001b[0m\u001b[0;34m\u001b[0m\u001b[0;34m\u001b[0m\u001b[0m\n",
            "\u001b[0;32m/usr/local/lib/python3.10/dist-packages/sqlalchemy/engine/create.py\u001b[0m in \u001b[0;36mconnect\u001b[0;34m(connection_record)\u001b[0m\n\u001b[1;32m    636\u001b[0m \u001b[0;34m\u001b[0m\u001b[0m\n\u001b[0;32m--> 637\u001b[0;31m             \u001b[0;32mreturn\u001b[0m \u001b[0mdialect\u001b[0m\u001b[0;34m.\u001b[0m\u001b[0mconnect\u001b[0m\u001b[0;34m(\u001b[0m\u001b[0;34m*\u001b[0m\u001b[0mcargs\u001b[0m\u001b[0;34m,\u001b[0m \u001b[0;34m**\u001b[0m\u001b[0mcparams\u001b[0m\u001b[0;34m)\u001b[0m\u001b[0;34m\u001b[0m\u001b[0;34m\u001b[0m\u001b[0m\n\u001b[0m\u001b[1;32m    638\u001b[0m \u001b[0;34m\u001b[0m\u001b[0m\n",
            "\u001b[0;32m/usr/local/lib/python3.10/dist-packages/sqlalchemy/engine/default.py\u001b[0m in \u001b[0;36mconnect\u001b[0;34m(self, *cargs, **cparams)\u001b[0m\n\u001b[1;32m    614\u001b[0m         \u001b[0;31m# inherits the docstring from interfaces.Dialect.connect\u001b[0m\u001b[0;34m\u001b[0m\u001b[0;34m\u001b[0m\u001b[0m\n\u001b[0;32m--> 615\u001b[0;31m         \u001b[0;32mreturn\u001b[0m \u001b[0mself\u001b[0m\u001b[0;34m.\u001b[0m\u001b[0mloaded_dbapi\u001b[0m\u001b[0;34m.\u001b[0m\u001b[0mconnect\u001b[0m\u001b[0;34m(\u001b[0m\u001b[0;34m*\u001b[0m\u001b[0mcargs\u001b[0m\u001b[0;34m,\u001b[0m \u001b[0;34m**\u001b[0m\u001b[0mcparams\u001b[0m\u001b[0;34m)\u001b[0m\u001b[0;34m\u001b[0m\u001b[0;34m\u001b[0m\u001b[0m\n\u001b[0m\u001b[1;32m    616\u001b[0m \u001b[0;34m\u001b[0m\u001b[0m\n",
            "\u001b[0;31mOperationalError\u001b[0m: unable to open database file",
            "\nThe above exception was the direct cause of the following exception:\n",
            "\u001b[0;31mOperationalError\u001b[0m                          Traceback (most recent call last)",
            "\u001b[0;32m/usr/local/lib/python3.10/dist-packages/evadb/executor/plan_executor.py\u001b[0m in \u001b[0;36mexecute_plan\u001b[0;34m(self, do_not_raise_exceptions, do_not_print_exceptions)\u001b[0m\n\u001b[1;32m    181\u001b[0m             \u001b[0;32mif\u001b[0m \u001b[0moutput\u001b[0m \u001b[0;32mis\u001b[0m \u001b[0;32mnot\u001b[0m \u001b[0;32mNone\u001b[0m\u001b[0;34m:\u001b[0m\u001b[0;34m\u001b[0m\u001b[0;34m\u001b[0m\u001b[0m\n\u001b[0;32m--> 182\u001b[0;31m                 \u001b[0;32myield\u001b[0m \u001b[0;32mfrom\u001b[0m \u001b[0moutput\u001b[0m\u001b[0;34m\u001b[0m\u001b[0;34m\u001b[0m\u001b[0m\n\u001b[0m\u001b[1;32m    183\u001b[0m         \u001b[0;32mexcept\u001b[0m \u001b[0mException\u001b[0m \u001b[0;32mas\u001b[0m \u001b[0me\u001b[0m\u001b[0;34m:\u001b[0m\u001b[0;34m\u001b[0m\u001b[0;34m\u001b[0m\u001b[0m\n",
            "\u001b[0;32m/usr/local/lib/python3.10/dist-packages/evadb/executor/drop_object_executor.py\u001b[0m in \u001b[0;36mexec\u001b[0;34m(self, *args, **kwargs)\u001b[0m\n\u001b[1;32m     37\u001b[0m         \u001b[0;32mif\u001b[0m \u001b[0mself\u001b[0m\u001b[0;34m.\u001b[0m\u001b[0mnode\u001b[0m\u001b[0;34m.\u001b[0m\u001b[0mobject_type\u001b[0m \u001b[0;34m==\u001b[0m \u001b[0mObjectType\u001b[0m\u001b[0;34m.\u001b[0m\u001b[0mTABLE\u001b[0m\u001b[0;34m:\u001b[0m\u001b[0;34m\u001b[0m\u001b[0;34m\u001b[0m\u001b[0m\n\u001b[0;32m---> 38\u001b[0;31m             \u001b[0;32myield\u001b[0m \u001b[0mself\u001b[0m\u001b[0;34m.\u001b[0m\u001b[0m_handle_drop_table\u001b[0m\u001b[0;34m(\u001b[0m\u001b[0mself\u001b[0m\u001b[0;34m.\u001b[0m\u001b[0mnode\u001b[0m\u001b[0;34m.\u001b[0m\u001b[0mname\u001b[0m\u001b[0;34m,\u001b[0m \u001b[0mself\u001b[0m\u001b[0;34m.\u001b[0m\u001b[0mnode\u001b[0m\u001b[0;34m.\u001b[0m\u001b[0mif_exists\u001b[0m\u001b[0;34m)\u001b[0m\u001b[0;34m\u001b[0m\u001b[0;34m\u001b[0m\u001b[0m\n\u001b[0m\u001b[1;32m     39\u001b[0m \u001b[0;34m\u001b[0m\u001b[0m\n",
            "\u001b[0;32m/usr/local/lib/python3.10/dist-packages/evadb/executor/drop_object_executor.py\u001b[0m in \u001b[0;36m_handle_drop_table\u001b[0;34m(self, table_name, if_exists)\u001b[0m\n\u001b[1;32m     49\u001b[0m     \u001b[0;32mdef\u001b[0m \u001b[0m_handle_drop_table\u001b[0m\u001b[0;34m(\u001b[0m\u001b[0mself\u001b[0m\u001b[0;34m,\u001b[0m \u001b[0mtable_name\u001b[0m\u001b[0;34m:\u001b[0m \u001b[0mstr\u001b[0m\u001b[0;34m,\u001b[0m \u001b[0mif_exists\u001b[0m\u001b[0;34m:\u001b[0m \u001b[0mbool\u001b[0m\u001b[0;34m)\u001b[0m\u001b[0;34m:\u001b[0m\u001b[0;34m\u001b[0m\u001b[0;34m\u001b[0m\u001b[0m\n\u001b[0;32m---> 50\u001b[0;31m         \u001b[0;32mif\u001b[0m \u001b[0;32mnot\u001b[0m \u001b[0mself\u001b[0m\u001b[0;34m.\u001b[0m\u001b[0mcatalog\u001b[0m\u001b[0;34m(\u001b[0m\u001b[0;34m)\u001b[0m\u001b[0;34m.\u001b[0m\u001b[0mcheck_table_exists\u001b[0m\u001b[0;34m(\u001b[0m\u001b[0mtable_name\u001b[0m\u001b[0;34m)\u001b[0m\u001b[0;34m:\u001b[0m\u001b[0;34m\u001b[0m\u001b[0;34m\u001b[0m\u001b[0m\n\u001b[0m\u001b[1;32m     51\u001b[0m             \u001b[0merr_msg\u001b[0m \u001b[0;34m=\u001b[0m \u001b[0;34m\"Table: {} does not exist\"\u001b[0m\u001b[0;34m.\u001b[0m\u001b[0mformat\u001b[0m\u001b[0;34m(\u001b[0m\u001b[0mtable_name\u001b[0m\u001b[0;34m)\u001b[0m\u001b[0;34m\u001b[0m\u001b[0;34m\u001b[0m\u001b[0m\n",
            "\u001b[0;32m/usr/local/lib/python3.10/dist-packages/evadb/executor/abstract_executor.py\u001b[0m in \u001b[0;36mcatalog\u001b[0;34m(self)\u001b[0m\n\u001b[1;32m     43\u001b[0m         \u001b[0;34m\"\"\"The object is intentionally generated on demand to prevent serialization issues. Having a SQLAlchemy object as a member variable can cause problems with multiprocessing. See get_catalog_instance()\"\"\"\u001b[0m\u001b[0;34m\u001b[0m\u001b[0;34m\u001b[0m\u001b[0m\n\u001b[0;32m---> 44\u001b[0;31m         \u001b[0;32mreturn\u001b[0m \u001b[0mself\u001b[0m\u001b[0;34m.\u001b[0m\u001b[0m_db\u001b[0m\u001b[0;34m.\u001b[0m\u001b[0mcatalog\u001b[0m\u001b[0;34m(\u001b[0m\u001b[0;34m)\u001b[0m \u001b[0;32mif\u001b[0m \u001b[0mself\u001b[0m\u001b[0;34m.\u001b[0m\u001b[0m_db\u001b[0m \u001b[0;32melse\u001b[0m \u001b[0;32mNone\u001b[0m\u001b[0;34m\u001b[0m\u001b[0;34m\u001b[0m\u001b[0m\n\u001b[0m\u001b[1;32m     45\u001b[0m \u001b[0;34m\u001b[0m\u001b[0m\n",
            "\u001b[0;32m/usr/local/lib/python3.10/dist-packages/evadb/database.py\u001b[0m in \u001b[0;36mcatalog\u001b[0;34m(self)\u001b[0m\n\u001b[1;32m     38\u001b[0m         \"\"\"\n\u001b[0;32m---> 39\u001b[0;31m         \u001b[0;32mreturn\u001b[0m \u001b[0mself\u001b[0m\u001b[0;34m.\u001b[0m\u001b[0mcatalog_func\u001b[0m\u001b[0;34m(\u001b[0m\u001b[0mself\u001b[0m\u001b[0;34m.\u001b[0m\u001b[0mcatalog_uri\u001b[0m\u001b[0;34m,\u001b[0m \u001b[0mself\u001b[0m\u001b[0;34m.\u001b[0m\u001b[0mconfig\u001b[0m\u001b[0;34m)\u001b[0m\u001b[0;34m\u001b[0m\u001b[0;34m\u001b[0m\u001b[0m\n\u001b[0m\u001b[1;32m     40\u001b[0m \u001b[0;34m\u001b[0m\u001b[0m\n",
            "\u001b[0;32m/usr/local/lib/python3.10/dist-packages/evadb/catalog/catalog_utils.py\u001b[0m in \u001b[0;36mget_catalog_instance\u001b[0;34m(db_uri, config)\u001b[0m\n\u001b[1;32m    313\u001b[0m \u001b[0;34m\u001b[0m\u001b[0m\n\u001b[0;32m--> 314\u001b[0;31m     \u001b[0;32mreturn\u001b[0m \u001b[0mCatalogManager\u001b[0m\u001b[0;34m(\u001b[0m\u001b[0mdb_uri\u001b[0m\u001b[0;34m,\u001b[0m \u001b[0mconfig\u001b[0m\u001b[0;34m)\u001b[0m\u001b[0;34m\u001b[0m\u001b[0;34m\u001b[0m\u001b[0m\n\u001b[0m",
            "\u001b[0;32m/usr/local/lib/python3.10/dist-packages/evadb/catalog/catalog_manager.py\u001b[0m in \u001b[0;36m__init__\u001b[0;34m(self, db_uri, config)\u001b[0m\n\u001b[1;32m     78\u001b[0m         \u001b[0mself\u001b[0m\u001b[0;34m.\u001b[0m\u001b[0m_config\u001b[0m \u001b[0;34m=\u001b[0m \u001b[0mconfig\u001b[0m\u001b[0;34m\u001b[0m\u001b[0;34m\u001b[0m\u001b[0m\n\u001b[0;32m---> 79\u001b[0;31m         \u001b[0mself\u001b[0m\u001b[0;34m.\u001b[0m\u001b[0m_bootstrap_catalog\u001b[0m\u001b[0;34m(\u001b[0m\u001b[0;34m)\u001b[0m\u001b[0;34m\u001b[0m\u001b[0;34m\u001b[0m\u001b[0m\n\u001b[0m\u001b[1;32m     80\u001b[0m         \u001b[0mself\u001b[0m\u001b[0;34m.\u001b[0m\u001b[0m_db_catalog_service\u001b[0m \u001b[0;34m=\u001b[0m \u001b[0mDatabaseCatalogService\u001b[0m\u001b[0;34m(\u001b[0m\u001b[0mself\u001b[0m\u001b[0;34m.\u001b[0m\u001b[0m_sql_config\u001b[0m\u001b[0;34m.\u001b[0m\u001b[0msession\u001b[0m\u001b[0;34m)\u001b[0m\u001b[0;34m\u001b[0m\u001b[0;34m\u001b[0m\u001b[0m\n",
            "\u001b[0;32m/usr/local/lib/python3.10/dist-packages/evadb/catalog/catalog_manager.py\u001b[0m in \u001b[0;36m_bootstrap_catalog\u001b[0;34m(self)\u001b[0m\n\u001b[1;32m    122\u001b[0m         \u001b[0mlogger\u001b[0m\u001b[0;34m.\u001b[0m\u001b[0minfo\u001b[0m\u001b[0;34m(\u001b[0m\u001b[0;34m\"Bootstrapping catalog\"\u001b[0m\u001b[0;34m)\u001b[0m\u001b[0;34m\u001b[0m\u001b[0;34m\u001b[0m\u001b[0m\n\u001b[0;32m--> 123\u001b[0;31m         \u001b[0minit_db\u001b[0m\u001b[0;34m(\u001b[0m\u001b[0mself\u001b[0m\u001b[0;34m.\u001b[0m\u001b[0m_sql_config\u001b[0m\u001b[0;34m.\u001b[0m\u001b[0mengine\u001b[0m\u001b[0;34m)\u001b[0m\u001b[0;34m\u001b[0m\u001b[0;34m\u001b[0m\u001b[0m\n\u001b[0m\u001b[1;32m    124\u001b[0m \u001b[0;34m\u001b[0m\u001b[0m\n",
            "\u001b[0;32m/usr/local/lib/python3.10/dist-packages/evadb/catalog/models/utils.py\u001b[0m in \u001b[0;36minit_db\u001b[0;34m(engine)\u001b[0m\n\u001b[1;32m     58\u001b[0m         \u001b[0mlogger\u001b[0m\u001b[0;34m.\u001b[0m\u001b[0minfo\u001b[0m\u001b[0;34m(\u001b[0m\u001b[0;34m\"Database does not exist, creating database.\"\u001b[0m\u001b[0;34m)\u001b[0m\u001b[0;34m\u001b[0m\u001b[0;34m\u001b[0m\u001b[0m\n\u001b[0;32m---> 59\u001b[0;31m         \u001b[0mcreate_database\u001b[0m\u001b[0;34m(\u001b[0m\u001b[0mengine\u001b[0m\u001b[0;34m.\u001b[0m\u001b[0murl\u001b[0m\u001b[0;34m)\u001b[0m\u001b[0;34m\u001b[0m\u001b[0;34m\u001b[0m\u001b[0m\n\u001b[0m\u001b[1;32m     60\u001b[0m     \u001b[0mlogger\u001b[0m\u001b[0;34m.\u001b[0m\u001b[0minfo\u001b[0m\u001b[0;34m(\u001b[0m\u001b[0;34m\"Creating tables\"\u001b[0m\u001b[0;34m)\u001b[0m\u001b[0;34m\u001b[0m\u001b[0;34m\u001b[0m\u001b[0m\n",
            "\u001b[0;32m/usr/local/lib/python3.10/dist-packages/sqlalchemy_utils/functions/database.py\u001b[0m in \u001b[0;36mcreate_database\u001b[0;34m(url, encoding, template)\u001b[0m\n\u001b[1;32m    585\u001b[0m         \u001b[0;32mif\u001b[0m \u001b[0mdatabase\u001b[0m\u001b[0;34m:\u001b[0m\u001b[0;34m\u001b[0m\u001b[0;34m\u001b[0m\u001b[0m\n\u001b[0;32m--> 586\u001b[0;31m             \u001b[0;32mwith\u001b[0m \u001b[0mengine\u001b[0m\u001b[0;34m.\u001b[0m\u001b[0mbegin\u001b[0m\u001b[0;34m(\u001b[0m\u001b[0;34m)\u001b[0m \u001b[0;32mas\u001b[0m \u001b[0mconn\u001b[0m\u001b[0;34m:\u001b[0m\u001b[0;34m\u001b[0m\u001b[0;34m\u001b[0m\u001b[0m\n\u001b[0m\u001b[1;32m    587\u001b[0m                 \u001b[0mconn\u001b[0m\u001b[0;34m.\u001b[0m\u001b[0mexecute\u001b[0m\u001b[0;34m(\u001b[0m\u001b[0msa\u001b[0m\u001b[0;34m.\u001b[0m\u001b[0mtext\u001b[0m\u001b[0;34m(\u001b[0m\u001b[0;34m'CREATE TABLE DB(id int)'\u001b[0m\u001b[0;34m)\u001b[0m\u001b[0;34m)\u001b[0m\u001b[0;34m\u001b[0m\u001b[0;34m\u001b[0m\u001b[0m\n",
            "\u001b[0;32m/usr/lib/python3.10/contextlib.py\u001b[0m in \u001b[0;36m__enter__\u001b[0;34m(self)\u001b[0m\n\u001b[1;32m    134\u001b[0m         \u001b[0;32mtry\u001b[0m\u001b[0;34m:\u001b[0m\u001b[0;34m\u001b[0m\u001b[0;34m\u001b[0m\u001b[0m\n\u001b[0;32m--> 135\u001b[0;31m             \u001b[0;32mreturn\u001b[0m \u001b[0mnext\u001b[0m\u001b[0;34m(\u001b[0m\u001b[0mself\u001b[0m\u001b[0;34m.\u001b[0m\u001b[0mgen\u001b[0m\u001b[0;34m)\u001b[0m\u001b[0;34m\u001b[0m\u001b[0;34m\u001b[0m\u001b[0m\n\u001b[0m\u001b[1;32m    136\u001b[0m         \u001b[0;32mexcept\u001b[0m \u001b[0mStopIteration\u001b[0m\u001b[0;34m:\u001b[0m\u001b[0;34m\u001b[0m\u001b[0;34m\u001b[0m\u001b[0m\n",
            "\u001b[0;32m/usr/local/lib/python3.10/dist-packages/sqlalchemy/engine/base.py\u001b[0m in \u001b[0;36mbegin\u001b[0;34m(self)\u001b[0m\n\u001b[1;32m   3227\u001b[0m         \"\"\"\n\u001b[0;32m-> 3228\u001b[0;31m         \u001b[0;32mwith\u001b[0m \u001b[0mself\u001b[0m\u001b[0;34m.\u001b[0m\u001b[0mconnect\u001b[0m\u001b[0;34m(\u001b[0m\u001b[0;34m)\u001b[0m \u001b[0;32mas\u001b[0m \u001b[0mconn\u001b[0m\u001b[0;34m:\u001b[0m\u001b[0;34m\u001b[0m\u001b[0;34m\u001b[0m\u001b[0m\n\u001b[0m\u001b[1;32m   3229\u001b[0m             \u001b[0;32mwith\u001b[0m \u001b[0mconn\u001b[0m\u001b[0;34m.\u001b[0m\u001b[0mbegin\u001b[0m\u001b[0;34m(\u001b[0m\u001b[0;34m)\u001b[0m\u001b[0;34m:\u001b[0m\u001b[0;34m\u001b[0m\u001b[0;34m\u001b[0m\u001b[0m\n",
            "\u001b[0;32m/usr/local/lib/python3.10/dist-packages/sqlalchemy/engine/base.py\u001b[0m in \u001b[0;36mconnect\u001b[0;34m(self)\u001b[0m\n\u001b[1;32m   3263\u001b[0m \u001b[0;34m\u001b[0m\u001b[0m\n\u001b[0;32m-> 3264\u001b[0;31m         \u001b[0;32mreturn\u001b[0m \u001b[0mself\u001b[0m\u001b[0;34m.\u001b[0m\u001b[0m_connection_cls\u001b[0m\u001b[0;34m(\u001b[0m\u001b[0mself\u001b[0m\u001b[0;34m)\u001b[0m\u001b[0;34m\u001b[0m\u001b[0;34m\u001b[0m\u001b[0m\n\u001b[0m\u001b[1;32m   3265\u001b[0m \u001b[0;34m\u001b[0m\u001b[0m\n",
            "\u001b[0;32m/usr/local/lib/python3.10/dist-packages/sqlalchemy/engine/base.py\u001b[0m in \u001b[0;36m__init__\u001b[0;34m(self, engine, connection, _has_events, _allow_revalidate, _allow_autobegin)\u001b[0m\n\u001b[1;32m    146\u001b[0m             \u001b[0;32mexcept\u001b[0m \u001b[0mdialect\u001b[0m\u001b[0;34m.\u001b[0m\u001b[0mloaded_dbapi\u001b[0m\u001b[0;34m.\u001b[0m\u001b[0mError\u001b[0m \u001b[0;32mas\u001b[0m \u001b[0merr\u001b[0m\u001b[0;34m:\u001b[0m\u001b[0;34m\u001b[0m\u001b[0;34m\u001b[0m\u001b[0m\n\u001b[0;32m--> 147\u001b[0;31m                 Connection._handle_dbapi_exception_noconnection(\n\u001b[0m\u001b[1;32m    148\u001b[0m                     \u001b[0merr\u001b[0m\u001b[0;34m,\u001b[0m \u001b[0mdialect\u001b[0m\u001b[0;34m,\u001b[0m \u001b[0mengine\u001b[0m\u001b[0;34m\u001b[0m\u001b[0;34m\u001b[0m\u001b[0m\n",
            "\u001b[0;32m/usr/local/lib/python3.10/dist-packages/sqlalchemy/engine/base.py\u001b[0m in \u001b[0;36m_handle_dbapi_exception_noconnection\u001b[0;34m(cls, e, dialect, engine, is_disconnect, invalidate_pool_on_disconnect, is_pre_ping)\u001b[0m\n\u001b[1;32m   2425\u001b[0m             \u001b[0;32massert\u001b[0m \u001b[0msqlalchemy_exception\u001b[0m \u001b[0;32mis\u001b[0m \u001b[0;32mnot\u001b[0m \u001b[0;32mNone\u001b[0m\u001b[0;34m\u001b[0m\u001b[0;34m\u001b[0m\u001b[0m\n\u001b[0;32m-> 2426\u001b[0;31m             \u001b[0;32mraise\u001b[0m \u001b[0msqlalchemy_exception\u001b[0m\u001b[0;34m.\u001b[0m\u001b[0mwith_traceback\u001b[0m\u001b[0;34m(\u001b[0m\u001b[0mexc_info\u001b[0m\u001b[0;34m[\u001b[0m\u001b[0;36m2\u001b[0m\u001b[0;34m]\u001b[0m\u001b[0;34m)\u001b[0m \u001b[0;32mfrom\u001b[0m \u001b[0me\u001b[0m\u001b[0;34m\u001b[0m\u001b[0;34m\u001b[0m\u001b[0m\n\u001b[0m\u001b[1;32m   2427\u001b[0m         \u001b[0;32melse\u001b[0m\u001b[0;34m:\u001b[0m\u001b[0;34m\u001b[0m\u001b[0;34m\u001b[0m\u001b[0m\n",
            "\u001b[0;32m/usr/local/lib/python3.10/dist-packages/sqlalchemy/engine/base.py\u001b[0m in \u001b[0;36m__init__\u001b[0;34m(self, engine, connection, _has_events, _allow_revalidate, _allow_autobegin)\u001b[0m\n\u001b[1;32m    144\u001b[0m             \u001b[0;32mtry\u001b[0m\u001b[0;34m:\u001b[0m\u001b[0;34m\u001b[0m\u001b[0;34m\u001b[0m\u001b[0m\n\u001b[0;32m--> 145\u001b[0;31m                 \u001b[0mself\u001b[0m\u001b[0;34m.\u001b[0m\u001b[0m_dbapi_connection\u001b[0m \u001b[0;34m=\u001b[0m \u001b[0mengine\u001b[0m\u001b[0;34m.\u001b[0m\u001b[0mraw_connection\u001b[0m\u001b[0;34m(\u001b[0m\u001b[0;34m)\u001b[0m\u001b[0;34m\u001b[0m\u001b[0;34m\u001b[0m\u001b[0m\n\u001b[0m\u001b[1;32m    146\u001b[0m             \u001b[0;32mexcept\u001b[0m \u001b[0mdialect\u001b[0m\u001b[0;34m.\u001b[0m\u001b[0mloaded_dbapi\u001b[0m\u001b[0;34m.\u001b[0m\u001b[0mError\u001b[0m \u001b[0;32mas\u001b[0m \u001b[0merr\u001b[0m\u001b[0;34m:\u001b[0m\u001b[0;34m\u001b[0m\u001b[0;34m\u001b[0m\u001b[0m\n",
            "\u001b[0;32m/usr/local/lib/python3.10/dist-packages/sqlalchemy/engine/base.py\u001b[0m in \u001b[0;36mraw_connection\u001b[0;34m(self)\u001b[0m\n\u001b[1;32m   3287\u001b[0m         \"\"\"\n\u001b[0;32m-> 3288\u001b[0;31m         \u001b[0;32mreturn\u001b[0m \u001b[0mself\u001b[0m\u001b[0;34m.\u001b[0m\u001b[0mpool\u001b[0m\u001b[0;34m.\u001b[0m\u001b[0mconnect\u001b[0m\u001b[0;34m(\u001b[0m\u001b[0;34m)\u001b[0m\u001b[0;34m\u001b[0m\u001b[0;34m\u001b[0m\u001b[0m\n\u001b[0m\u001b[1;32m   3289\u001b[0m \u001b[0;34m\u001b[0m\u001b[0m\n",
            "\u001b[0;32m/usr/local/lib/python3.10/dist-packages/sqlalchemy/pool/base.py\u001b[0m in \u001b[0;36mconnect\u001b[0;34m(self)\u001b[0m\n\u001b[1;32m    451\u001b[0m         \"\"\"\n\u001b[0;32m--> 452\u001b[0;31m         \u001b[0;32mreturn\u001b[0m \u001b[0m_ConnectionFairy\u001b[0m\u001b[0;34m.\u001b[0m\u001b[0m_checkout\u001b[0m\u001b[0;34m(\u001b[0m\u001b[0mself\u001b[0m\u001b[0;34m)\u001b[0m\u001b[0;34m\u001b[0m\u001b[0;34m\u001b[0m\u001b[0m\n\u001b[0m\u001b[1;32m    453\u001b[0m \u001b[0;34m\u001b[0m\u001b[0m\n",
            "\u001b[0;32m/usr/local/lib/python3.10/dist-packages/sqlalchemy/pool/base.py\u001b[0m in \u001b[0;36m_checkout\u001b[0;34m(cls, pool, threadconns, fairy)\u001b[0m\n\u001b[1;32m   1266\u001b[0m         \u001b[0;32mif\u001b[0m \u001b[0;32mnot\u001b[0m \u001b[0mfairy\u001b[0m\u001b[0;34m:\u001b[0m\u001b[0;34m\u001b[0m\u001b[0;34m\u001b[0m\u001b[0m\n\u001b[0;32m-> 1267\u001b[0;31m             \u001b[0mfairy\u001b[0m \u001b[0;34m=\u001b[0m \u001b[0m_ConnectionRecord\u001b[0m\u001b[0;34m.\u001b[0m\u001b[0mcheckout\u001b[0m\u001b[0;34m(\u001b[0m\u001b[0mpool\u001b[0m\u001b[0;34m)\u001b[0m\u001b[0;34m\u001b[0m\u001b[0;34m\u001b[0m\u001b[0m\n\u001b[0m\u001b[1;32m   1268\u001b[0m \u001b[0;34m\u001b[0m\u001b[0m\n",
            "\u001b[0;32m/usr/local/lib/python3.10/dist-packages/sqlalchemy/pool/base.py\u001b[0m in \u001b[0;36mcheckout\u001b[0;34m(cls, pool)\u001b[0m\n\u001b[1;32m    715\u001b[0m         \u001b[0;32melse\u001b[0m\u001b[0;34m:\u001b[0m\u001b[0;34m\u001b[0m\u001b[0;34m\u001b[0m\u001b[0m\n\u001b[0;32m--> 716\u001b[0;31m             \u001b[0mrec\u001b[0m \u001b[0;34m=\u001b[0m \u001b[0mpool\u001b[0m\u001b[0;34m.\u001b[0m\u001b[0m_do_get\u001b[0m\u001b[0;34m(\u001b[0m\u001b[0;34m)\u001b[0m\u001b[0;34m\u001b[0m\u001b[0;34m\u001b[0m\u001b[0m\n\u001b[0m\u001b[1;32m    717\u001b[0m \u001b[0;34m\u001b[0m\u001b[0m\n",
            "\u001b[0;32m/usr/local/lib/python3.10/dist-packages/sqlalchemy/pool/impl.py\u001b[0m in \u001b[0;36m_do_get\u001b[0;34m(self)\u001b[0m\n\u001b[1;32m    168\u001b[0m             \u001b[0;32mexcept\u001b[0m\u001b[0;34m:\u001b[0m\u001b[0;34m\u001b[0m\u001b[0;34m\u001b[0m\u001b[0m\n\u001b[0;32m--> 169\u001b[0;31m                 \u001b[0;32mwith\u001b[0m \u001b[0mutil\u001b[0m\u001b[0;34m.\u001b[0m\u001b[0msafe_reraise\u001b[0m\u001b[0;34m(\u001b[0m\u001b[0;34m)\u001b[0m\u001b[0;34m:\u001b[0m\u001b[0;34m\u001b[0m\u001b[0;34m\u001b[0m\u001b[0m\n\u001b[0m\u001b[1;32m    170\u001b[0m                     \u001b[0mself\u001b[0m\u001b[0;34m.\u001b[0m\u001b[0m_dec_overflow\u001b[0m\u001b[0;34m(\u001b[0m\u001b[0;34m)\u001b[0m\u001b[0;34m\u001b[0m\u001b[0;34m\u001b[0m\u001b[0m\n",
            "\u001b[0;32m/usr/local/lib/python3.10/dist-packages/sqlalchemy/util/langhelpers.py\u001b[0m in \u001b[0;36m__exit__\u001b[0;34m(self, type_, value, traceback)\u001b[0m\n\u001b[1;32m    145\u001b[0m             \u001b[0mself\u001b[0m\u001b[0;34m.\u001b[0m\u001b[0m_exc_info\u001b[0m \u001b[0;34m=\u001b[0m \u001b[0;32mNone\u001b[0m  \u001b[0;31m# remove potential circular references\u001b[0m\u001b[0;34m\u001b[0m\u001b[0;34m\u001b[0m\u001b[0m\n\u001b[0;32m--> 146\u001b[0;31m             \u001b[0;32mraise\u001b[0m \u001b[0mexc_value\u001b[0m\u001b[0;34m.\u001b[0m\u001b[0mwith_traceback\u001b[0m\u001b[0;34m(\u001b[0m\u001b[0mexc_tb\u001b[0m\u001b[0;34m)\u001b[0m\u001b[0;34m\u001b[0m\u001b[0;34m\u001b[0m\u001b[0m\n\u001b[0m\u001b[1;32m    147\u001b[0m         \u001b[0;32melse\u001b[0m\u001b[0;34m:\u001b[0m\u001b[0;34m\u001b[0m\u001b[0;34m\u001b[0m\u001b[0m\n",
            "\u001b[0;32m/usr/local/lib/python3.10/dist-packages/sqlalchemy/pool/impl.py\u001b[0m in \u001b[0;36m_do_get\u001b[0;34m(self)\u001b[0m\n\u001b[1;32m    166\u001b[0m             \u001b[0;32mtry\u001b[0m\u001b[0;34m:\u001b[0m\u001b[0;34m\u001b[0m\u001b[0;34m\u001b[0m\u001b[0m\n\u001b[0;32m--> 167\u001b[0;31m                 \u001b[0;32mreturn\u001b[0m \u001b[0mself\u001b[0m\u001b[0;34m.\u001b[0m\u001b[0m_create_connection\u001b[0m\u001b[0;34m(\u001b[0m\u001b[0;34m)\u001b[0m\u001b[0;34m\u001b[0m\u001b[0;34m\u001b[0m\u001b[0m\n\u001b[0m\u001b[1;32m    168\u001b[0m             \u001b[0;32mexcept\u001b[0m\u001b[0;34m:\u001b[0m\u001b[0;34m\u001b[0m\u001b[0;34m\u001b[0m\u001b[0m\n",
            "\u001b[0;32m/usr/local/lib/python3.10/dist-packages/sqlalchemy/pool/base.py\u001b[0m in \u001b[0;36m_create_connection\u001b[0;34m(self)\u001b[0m\n\u001b[1;32m    392\u001b[0m \u001b[0;34m\u001b[0m\u001b[0m\n\u001b[0;32m--> 393\u001b[0;31m         \u001b[0;32mreturn\u001b[0m \u001b[0m_ConnectionRecord\u001b[0m\u001b[0;34m(\u001b[0m\u001b[0mself\u001b[0m\u001b[0;34m)\u001b[0m\u001b[0;34m\u001b[0m\u001b[0;34m\u001b[0m\u001b[0m\n\u001b[0m\u001b[1;32m    394\u001b[0m \u001b[0;34m\u001b[0m\u001b[0m\n",
            "\u001b[0;32m/usr/local/lib/python3.10/dist-packages/sqlalchemy/pool/base.py\u001b[0m in \u001b[0;36m__init__\u001b[0;34m(self, pool, connect)\u001b[0m\n\u001b[1;32m    677\u001b[0m         \u001b[0;32mif\u001b[0m \u001b[0mconnect\u001b[0m\u001b[0;34m:\u001b[0m\u001b[0;34m\u001b[0m\u001b[0;34m\u001b[0m\u001b[0m\n\u001b[0;32m--> 678\u001b[0;31m             \u001b[0mself\u001b[0m\u001b[0;34m.\u001b[0m\u001b[0m__connect\u001b[0m\u001b[0;34m(\u001b[0m\u001b[0;34m)\u001b[0m\u001b[0;34m\u001b[0m\u001b[0;34m\u001b[0m\u001b[0m\n\u001b[0m\u001b[1;32m    679\u001b[0m         \u001b[0mself\u001b[0m\u001b[0;34m.\u001b[0m\u001b[0mfinalize_callback\u001b[0m \u001b[0;34m=\u001b[0m \u001b[0mdeque\u001b[0m\u001b[0;34m(\u001b[0m\u001b[0;34m)\u001b[0m\u001b[0;34m\u001b[0m\u001b[0;34m\u001b[0m\u001b[0m\n",
            "\u001b[0;32m/usr/local/lib/python3.10/dist-packages/sqlalchemy/pool/base.py\u001b[0m in \u001b[0;36m__connect\u001b[0;34m(self)\u001b[0m\n\u001b[1;32m    901\u001b[0m         \u001b[0;32mexcept\u001b[0m \u001b[0mBaseException\u001b[0m \u001b[0;32mas\u001b[0m \u001b[0me\u001b[0m\u001b[0;34m:\u001b[0m\u001b[0;34m\u001b[0m\u001b[0;34m\u001b[0m\u001b[0m\n\u001b[0;32m--> 902\u001b[0;31m             \u001b[0;32mwith\u001b[0m \u001b[0mutil\u001b[0m\u001b[0;34m.\u001b[0m\u001b[0msafe_reraise\u001b[0m\u001b[0;34m(\u001b[0m\u001b[0;34m)\u001b[0m\u001b[0;34m:\u001b[0m\u001b[0;34m\u001b[0m\u001b[0;34m\u001b[0m\u001b[0m\n\u001b[0m\u001b[1;32m    903\u001b[0m                 \u001b[0mpool\u001b[0m\u001b[0;34m.\u001b[0m\u001b[0mlogger\u001b[0m\u001b[0;34m.\u001b[0m\u001b[0mdebug\u001b[0m\u001b[0;34m(\u001b[0m\u001b[0;34m\"Error on connect(): %s\"\u001b[0m\u001b[0;34m,\u001b[0m \u001b[0me\u001b[0m\u001b[0;34m)\u001b[0m\u001b[0;34m\u001b[0m\u001b[0;34m\u001b[0m\u001b[0m\n",
            "\u001b[0;32m/usr/local/lib/python3.10/dist-packages/sqlalchemy/util/langhelpers.py\u001b[0m in \u001b[0;36m__exit__\u001b[0;34m(self, type_, value, traceback)\u001b[0m\n\u001b[1;32m    145\u001b[0m             \u001b[0mself\u001b[0m\u001b[0;34m.\u001b[0m\u001b[0m_exc_info\u001b[0m \u001b[0;34m=\u001b[0m \u001b[0;32mNone\u001b[0m  \u001b[0;31m# remove potential circular references\u001b[0m\u001b[0;34m\u001b[0m\u001b[0;34m\u001b[0m\u001b[0m\n\u001b[0;32m--> 146\u001b[0;31m             \u001b[0;32mraise\u001b[0m \u001b[0mexc_value\u001b[0m\u001b[0;34m.\u001b[0m\u001b[0mwith_traceback\u001b[0m\u001b[0;34m(\u001b[0m\u001b[0mexc_tb\u001b[0m\u001b[0;34m)\u001b[0m\u001b[0;34m\u001b[0m\u001b[0;34m\u001b[0m\u001b[0m\n\u001b[0m\u001b[1;32m    147\u001b[0m         \u001b[0;32melse\u001b[0m\u001b[0;34m:\u001b[0m\u001b[0;34m\u001b[0m\u001b[0;34m\u001b[0m\u001b[0m\n",
            "\u001b[0;32m/usr/local/lib/python3.10/dist-packages/sqlalchemy/pool/base.py\u001b[0m in \u001b[0;36m__connect\u001b[0;34m(self)\u001b[0m\n\u001b[1;32m    897\u001b[0m             \u001b[0mself\u001b[0m\u001b[0;34m.\u001b[0m\u001b[0mstarttime\u001b[0m \u001b[0;34m=\u001b[0m \u001b[0mtime\u001b[0m\u001b[0;34m.\u001b[0m\u001b[0mtime\u001b[0m\u001b[0;34m(\u001b[0m\u001b[0;34m)\u001b[0m\u001b[0;34m\u001b[0m\u001b[0;34m\u001b[0m\u001b[0m\n\u001b[0;32m--> 898\u001b[0;31m             \u001b[0mself\u001b[0m\u001b[0;34m.\u001b[0m\u001b[0mdbapi_connection\u001b[0m \u001b[0;34m=\u001b[0m \u001b[0mconnection\u001b[0m \u001b[0;34m=\u001b[0m \u001b[0mpool\u001b[0m\u001b[0;34m.\u001b[0m\u001b[0m_invoke_creator\u001b[0m\u001b[0;34m(\u001b[0m\u001b[0mself\u001b[0m\u001b[0;34m)\u001b[0m\u001b[0;34m\u001b[0m\u001b[0;34m\u001b[0m\u001b[0m\n\u001b[0m\u001b[1;32m    899\u001b[0m             \u001b[0mpool\u001b[0m\u001b[0;34m.\u001b[0m\u001b[0mlogger\u001b[0m\u001b[0;34m.\u001b[0m\u001b[0mdebug\u001b[0m\u001b[0;34m(\u001b[0m\u001b[0;34m\"Created new connection %r\"\u001b[0m\u001b[0;34m,\u001b[0m \u001b[0mconnection\u001b[0m\u001b[0;34m)\u001b[0m\u001b[0;34m\u001b[0m\u001b[0;34m\u001b[0m\u001b[0m\n",
            "\u001b[0;32m/usr/local/lib/python3.10/dist-packages/sqlalchemy/engine/create.py\u001b[0m in \u001b[0;36mconnect\u001b[0;34m(connection_record)\u001b[0m\n\u001b[1;32m    636\u001b[0m \u001b[0;34m\u001b[0m\u001b[0m\n\u001b[0;32m--> 637\u001b[0;31m             \u001b[0;32mreturn\u001b[0m \u001b[0mdialect\u001b[0m\u001b[0;34m.\u001b[0m\u001b[0mconnect\u001b[0m\u001b[0;34m(\u001b[0m\u001b[0;34m*\u001b[0m\u001b[0mcargs\u001b[0m\u001b[0;34m,\u001b[0m \u001b[0;34m**\u001b[0m\u001b[0mcparams\u001b[0m\u001b[0;34m)\u001b[0m\u001b[0;34m\u001b[0m\u001b[0;34m\u001b[0m\u001b[0m\n\u001b[0m\u001b[1;32m    638\u001b[0m \u001b[0;34m\u001b[0m\u001b[0m\n",
            "\u001b[0;32m/usr/local/lib/python3.10/dist-packages/sqlalchemy/engine/default.py\u001b[0m in \u001b[0;36mconnect\u001b[0;34m(self, *cargs, **cparams)\u001b[0m\n\u001b[1;32m    614\u001b[0m         \u001b[0;31m# inherits the docstring from interfaces.Dialect.connect\u001b[0m\u001b[0;34m\u001b[0m\u001b[0;34m\u001b[0m\u001b[0m\n\u001b[0;32m--> 615\u001b[0;31m         \u001b[0;32mreturn\u001b[0m \u001b[0mself\u001b[0m\u001b[0;34m.\u001b[0m\u001b[0mloaded_dbapi\u001b[0m\u001b[0;34m.\u001b[0m\u001b[0mconnect\u001b[0m\u001b[0;34m(\u001b[0m\u001b[0;34m*\u001b[0m\u001b[0mcargs\u001b[0m\u001b[0;34m,\u001b[0m \u001b[0;34m**\u001b[0m\u001b[0mcparams\u001b[0m\u001b[0;34m)\u001b[0m\u001b[0;34m\u001b[0m\u001b[0;34m\u001b[0m\u001b[0m\n\u001b[0m\u001b[1;32m    616\u001b[0m \u001b[0;34m\u001b[0m\u001b[0m\n",
            "\u001b[0;31mOperationalError\u001b[0m: (sqlite3.OperationalError) unable to open database file\n(Background on this error at: https://sqlalche.me/e/20/e3q8)",
            "\nDuring handling of the above exception, another exception occurred:\n",
            "\u001b[0;31mExecutorError\u001b[0m                             Traceback (most recent call last)",
            "\u001b[0;32m<ipython-input-37-ec378ef79646>\u001b[0m in \u001b[0;36m<cell line: 1>\u001b[0;34m()\u001b[0m\n\u001b[0;32m----> 1\u001b[0;31m \u001b[0mcursor\u001b[0m\u001b[0;34m.\u001b[0m\u001b[0mquery\u001b[0m\u001b[0;34m(\u001b[0m\u001b[0;34m\"DROP TABLE IF EXISTS MyPDFs\"\u001b[0m\u001b[0;34m)\u001b[0m\u001b[0;34m.\u001b[0m\u001b[0mdf\u001b[0m\u001b[0;34m(\u001b[0m\u001b[0;34m)\u001b[0m\u001b[0;34m\u001b[0m\u001b[0;34m\u001b[0m\u001b[0m\n\u001b[0m\u001b[1;32m      2\u001b[0m \u001b[0mcursor\u001b[0m\u001b[0;34m.\u001b[0m\u001b[0mquery\u001b[0m\u001b[0;34m(\u001b[0m\u001b[0;34m\"LOAD PDF 'pdf_sample1.pdf' INTO MyPDFs\"\u001b[0m\u001b[0;34m)\u001b[0m\u001b[0;34m.\u001b[0m\u001b[0mdf\u001b[0m\u001b[0;34m(\u001b[0m\u001b[0;34m)\u001b[0m\u001b[0;34m\u001b[0m\u001b[0;34m\u001b[0m\u001b[0m\n",
            "\u001b[0;32m/usr/local/lib/python3.10/dist-packages/evadb/interfaces/relational/relation.py\u001b[0m in \u001b[0;36mdf\u001b[0;34m(self)\u001b[0m\n\u001b[1;32m    108\u001b[0m             \u001b[0mpandas\u001b[0m\u001b[0;34m.\u001b[0m\u001b[0mDataFrame\u001b[0m\u001b[0;34m:\u001b[0m\u001b[0;34m\u001b[0m\u001b[0;34m\u001b[0m\u001b[0m\n\u001b[1;32m    109\u001b[0m         \"\"\"\n\u001b[0;32m--> 110\u001b[0;31m         \u001b[0mbatch\u001b[0m \u001b[0;34m=\u001b[0m \u001b[0mself\u001b[0m\u001b[0;34m.\u001b[0m\u001b[0mexecute\u001b[0m\u001b[0;34m(\u001b[0m\u001b[0;34m)\u001b[0m\u001b[0;34m\u001b[0m\u001b[0;34m\u001b[0m\u001b[0m\n\u001b[0m\u001b[1;32m    111\u001b[0m         \u001b[0;32massert\u001b[0m \u001b[0mbatch\u001b[0m \u001b[0;32mis\u001b[0m \u001b[0;32mnot\u001b[0m \u001b[0;32mNone\u001b[0m\u001b[0;34m,\u001b[0m \u001b[0;34m\"relation execute failed\"\u001b[0m\u001b[0;34m\u001b[0m\u001b[0;34m\u001b[0m\u001b[0m\n\u001b[1;32m    112\u001b[0m         \u001b[0;32mreturn\u001b[0m \u001b[0mbatch\u001b[0m\u001b[0;34m.\u001b[0m\u001b[0mframes\u001b[0m\u001b[0;34m\u001b[0m\u001b[0;34m\u001b[0m\u001b[0m\n",
            "\u001b[0;32m/usr/local/lib/python3.10/dist-packages/evadb/interfaces/relational/relation.py\u001b[0m in \u001b[0;36mexecute\u001b[0;34m(self)\u001b[0m\n\u001b[1;32m    118\u001b[0m             \u001b[0mBatch\u001b[0m\u001b[0;34m:\u001b[0m \u001b[0mresult\u001b[0m \u001b[0;32mas\u001b[0m \u001b[0mevadb\u001b[0m \u001b[0mBatch\u001b[0m\u001b[0;34m\u001b[0m\u001b[0;34m\u001b[0m\u001b[0m\n\u001b[1;32m    119\u001b[0m         \"\"\"\n\u001b[0;32m--> 120\u001b[0;31m         \u001b[0mresult\u001b[0m \u001b[0;34m=\u001b[0m \u001b[0mexecute_statement\u001b[0m\u001b[0;34m(\u001b[0m\u001b[0mself\u001b[0m\u001b[0;34m.\u001b[0m\u001b[0m_evadb\u001b[0m\u001b[0;34m,\u001b[0m \u001b[0mself\u001b[0m\u001b[0;34m.\u001b[0m\u001b[0m_query_node\u001b[0m\u001b[0;34m.\u001b[0m\u001b[0mcopy\u001b[0m\u001b[0;34m(\u001b[0m\u001b[0;34m)\u001b[0m\u001b[0;34m)\u001b[0m\u001b[0;34m\u001b[0m\u001b[0;34m\u001b[0m\u001b[0m\n\u001b[0m\u001b[1;32m    121\u001b[0m         \u001b[0;32massert\u001b[0m \u001b[0mresult\u001b[0m\u001b[0;34m.\u001b[0m\u001b[0mframes\u001b[0m \u001b[0;32mis\u001b[0m \u001b[0;32mnot\u001b[0m \u001b[0;32mNone\u001b[0m\u001b[0;34m\u001b[0m\u001b[0;34m\u001b[0m\u001b[0m\n\u001b[1;32m    122\u001b[0m         \u001b[0;32mreturn\u001b[0m \u001b[0mresult\u001b[0m\u001b[0;34m\u001b[0m\u001b[0;34m\u001b[0m\u001b[0m\n",
            "\u001b[0;32m/usr/local/lib/python3.10/dist-packages/evadb/server/command_handler.py\u001b[0m in \u001b[0;36mexecute_statement\u001b[0;34m(evadb, stmt, do_not_raise_exceptions, do_not_print_exceptions, **kwargs)\u001b[0m\n\u001b[1;32m     51\u001b[0m     )\n\u001b[1;32m     52\u001b[0m     \u001b[0;32mif\u001b[0m \u001b[0moutput\u001b[0m\u001b[0;34m:\u001b[0m\u001b[0;34m\u001b[0m\u001b[0;34m\u001b[0m\u001b[0m\n\u001b[0;32m---> 53\u001b[0;31m         \u001b[0mbatch_list\u001b[0m \u001b[0;34m=\u001b[0m \u001b[0mlist\u001b[0m\u001b[0;34m(\u001b[0m\u001b[0moutput\u001b[0m\u001b[0;34m)\u001b[0m\u001b[0;34m\u001b[0m\u001b[0;34m\u001b[0m\u001b[0m\n\u001b[0m\u001b[1;32m     54\u001b[0m         \u001b[0;32mreturn\u001b[0m \u001b[0mBatch\u001b[0m\u001b[0;34m.\u001b[0m\u001b[0mconcat\u001b[0m\u001b[0;34m(\u001b[0m\u001b[0mbatch_list\u001b[0m\u001b[0;34m,\u001b[0m \u001b[0mcopy\u001b[0m\u001b[0;34m=\u001b[0m\u001b[0;32mFalse\u001b[0m\u001b[0;34m)\u001b[0m\u001b[0;34m\u001b[0m\u001b[0;34m\u001b[0m\u001b[0m\n\u001b[1;32m     55\u001b[0m \u001b[0;34m\u001b[0m\u001b[0m\n",
            "\u001b[0;32m/usr/local/lib/python3.10/dist-packages/evadb/executor/plan_executor.py\u001b[0m in \u001b[0;36mexecute_plan\u001b[0;34m(self, do_not_raise_exceptions, do_not_print_exceptions)\u001b[0m\n\u001b[1;32m    185\u001b[0m                 \u001b[0;32mif\u001b[0m \u001b[0mdo_not_print_exceptions\u001b[0m \u001b[0;32mis\u001b[0m \u001b[0;32mFalse\u001b[0m\u001b[0;34m:\u001b[0m\u001b[0;34m\u001b[0m\u001b[0;34m\u001b[0m\u001b[0m\n\u001b[1;32m    186\u001b[0m                     \u001b[0mlogger\u001b[0m\u001b[0;34m.\u001b[0m\u001b[0mexception\u001b[0m\u001b[0;34m(\u001b[0m\u001b[0mstr\u001b[0m\u001b[0;34m(\u001b[0m\u001b[0me\u001b[0m\u001b[0;34m)\u001b[0m\u001b[0;34m)\u001b[0m\u001b[0;34m\u001b[0m\u001b[0;34m\u001b[0m\u001b[0m\n\u001b[0;32m--> 187\u001b[0;31m                 \u001b[0;32mraise\u001b[0m \u001b[0mExecutorError\u001b[0m\u001b[0;34m(\u001b[0m\u001b[0me\u001b[0m\u001b[0;34m)\u001b[0m\u001b[0;34m\u001b[0m\u001b[0;34m\u001b[0m\u001b[0m\n\u001b[0m",
            "\u001b[0;31mExecutorError\u001b[0m: (sqlite3.OperationalError) unable to open database file\n(Background on this error at: https://sqlalche.me/e/20/e3q8)"
          ]
        }
      ],
      "source": [
        "cursor.query(\"DROP TABLE IF EXISTS MyPDFs\").df()\n",
        "cursor.query(\"LOAD PDF 'pdf_sample1.pdf' INTO MyPDFs\").df()"
      ]
    },
    {
      "cell_type": "markdown",
      "id": "972e2b21",
      "metadata": {
        "id": "972e2b21"
      },
      "source": [
        "Retrieve Text from Loaded PDFs"
      ]
    },
    {
      "cell_type": "code",
      "execution_count": null,
      "id": "f2674110",
      "metadata": {
        "id": "f2674110"
      },
      "outputs": [],
      "source": [
        "cursor.query(\"SELECT * FROM MyPDFs\").df()"
      ]
    },
    {
      "cell_type": "code",
      "execution_count": null,
      "id": "b476274d",
      "metadata": {
        "id": "b476274d"
      },
      "outputs": [],
      "source": [
        "cursor.query(\"\"\"\n",
        "    SELECT *\n",
        "    FROM MyPDFs\n",
        "\"\"\").df()"
      ]
    },
    {
      "cell_type": "markdown",
      "id": "f502eddb",
      "metadata": {
        "id": "f502eddb"
      },
      "source": [
        "Create UDFs for Text Classification and Text Summarization"
      ]
    },
    {
      "cell_type": "code",
      "execution_count": null,
      "id": "d2c46f7e",
      "metadata": {
        "id": "d2c46f7e"
      },
      "outputs": [],
      "source": [
        "cursor.query(\"\"\"\n",
        "    CREATE FUNCTION IF NOT EXISTS TextClassifier\n",
        "    TYPE HuggingFace\n",
        "    TASK 'text-classification'\n",
        "    MODEL 'distilbert-base-uncased-finetuned-sst-2-english'\n",
        "\"\"\").df()"
      ]
    },
    {
      "cell_type": "code",
      "execution_count": null,
      "id": "fd75bf79",
      "metadata": {
        "id": "fd75bf79"
      },
      "outputs": [],
      "source": [
        "cursor.query(\"\"\"\n",
        "    CREATE FUNCTION IF NOT EXISTS TextSummarizer\n",
        "    TYPE HuggingFace\n",
        "    TASK 'summarization'\n",
        "    MODEL 'facebook/bart-large-cnn'\n",
        "\"\"\").df()"
      ]
    },
    {
      "cell_type": "markdown",
      "id": "33b97175",
      "metadata": {
        "id": "33b97175"
      },
      "source": [
        "Get Summaries of a Subset of Paragraphs with Negative Sentiment"
      ]
    },
    {
      "cell_type": "code",
      "execution_count": null,
      "id": "42ddaccb",
      "metadata": {
        "id": "42ddaccb"
      },
      "outputs": [],
      "source": [
        "cursor.query(\"\"\"\n",
        "    SELECT data, TextSummarizer(data)\n",
        "    FROM MyPDFs\n",
        "\"\"\").df()\n"
      ]
    }
  ],
  "metadata": {
    "kernelspec": {
      "display_name": "Python 3 (ipykernel)",
      "language": "python",
      "name": "python3"
    },
    "language_info": {
      "codemirror_mode": {
        "name": "ipython",
        "version": 3
      },
      "file_extension": ".py",
      "mimetype": "text/x-python",
      "name": "python",
      "nbconvert_exporter": "python",
      "pygments_lexer": "ipython3",
      "version": "3.11.5"
    },
    "varInspector": {
      "cols": {
        "lenName": 16,
        "lenType": 16,
        "lenVar": 40
      },
      "kernels_config": {
        "python": {
          "delete_cmd_postfix": "",
          "delete_cmd_prefix": "del ",
          "library": "var_list.py",
          "varRefreshCmd": "print(var_dic_list())"
        },
        "r": {
          "delete_cmd_postfix": ") ",
          "delete_cmd_prefix": "rm(",
          "library": "var_list.r",
          "varRefreshCmd": "cat(var_dic_list()) "
        }
      },
      "types_to_exclude": [
        "module",
        "function",
        "builtin_function_or_method",
        "instance",
        "_Feature"
      ],
      "window_display": false
    },
    "vscode": {
      "interpreter": {
        "hash": "292337e8e9747092192f4a1ef18b0951099c869b0f06eb7241460e1768f24923"
      }
    },
    "colab": {
      "provenance": []
    }
  },
  "nbformat": 4,
  "nbformat_minor": 5
}